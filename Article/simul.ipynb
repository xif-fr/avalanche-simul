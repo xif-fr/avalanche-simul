{
 "cells": [
  {
   "cell_type": "markdown",
   "metadata": {},
   "source": [
    "Bibliothèques utiles :"
   ]
  },
  {
   "cell_type": "code",
   "execution_count": 1,
   "metadata": {},
   "outputs": [],
   "source": [
    "import numpy as np\n",
    "import matplotlib\n",
    "import matplotlib.pyplot as plt\n",
    "from cfd_common_article import *\n",
    "from math import *\n",
    "import time\n",
    "import scipy"
   ]
  },
  {
   "cell_type": "code",
   "execution_count": 2,
   "metadata": {},
   "outputs": [],
   "source": [
    "%matplotlib qt"
   ]
  },
  {
   "cell_type": "code",
   "execution_count": 3,
   "metadata": {},
   "outputs": [],
   "source": [
    "plt.ion()"
   ]
  },
  {
   "cell_type": "markdown",
   "metadata": {},
   "source": [
    "Choix du domaine et des paramètres de la discrétisation du problème :"
   ]
  },
  {
   "cell_type": "code",
   "execution_count": 4,
   "metadata": {},
   "outputs": [],
   "source": [
    "##### Domain #####\n",
    "\n",
    "# Domain size\n",
    "Lx = 2.\n",
    "Ly = 2.\n",
    "\n",
    "# Physical grid size\n",
    "Nx_phys = 100\n",
    "Ny_phys = 100\n",
    "Δx = Lx/Nx_phys\n",
    "Δy = Ly/Ny_phys\n",
    "\n",
    "# Numerical grid size, including ghost points\n",
    "Nx = Nx_phys + 2\n",
    "Ny = Ny_phys + 2\n",
    "\n",
    "# Physical grid (x,y)\n",
    "# Due to the \"staggered-like\" approach to boundary conditions with ghost points,\n",
    "#  the border go through the middle of border cells\n",
    "x = np.linspace(Δx/2, Lx-Δx/2, Nx_phys) \n",
    "y = np.linspace(Δy/2, Ly-Δy/2, Ny_phys)\n",
    "[xx,yy] = np.meshgrid(x,y) "
   ]
  },
  {
   "cell_type": "markdown",
   "metadata": {},
   "source": [
    "Initialisation des champs de vitesse / champ de pression et champ de densité :\n",
    "\n",
    "On note $u,v$ les composantes horizontale, verticales du champ de vitesse. On les initialise à :..."
   ]
  },
  {
   "cell_type": "code",
   "execution_count": 5,
   "metadata": {},
   "outputs": [],
   "source": [
    "##### Fields #####\n",
    "\n",
    "# Velocity field (u,v)[i,j], initialized to \"zero\"\n",
    "u = np.zeros((Nx,Ny))\n",
    "v = np.zeros((Nx,Ny))\n",
    "\n",
    "vrand_ampli = 0.5\n",
    "#u += vrand_ampli * ( 1-2*np.random.rand(Nx,Ny) ) # random vertical velocity to speed up the instability\n",
    "#v[1:-1,1:-1] = 1/2 * np.where(((xx-0*Lx/2)**2+(yy-Ly/2)**2)<0.5, 1, 0)\n",
    "#v[1:-1,1:-1] = 1/2 * np.where(((xx-0*Lx/2)**2+(yy-Ly/2)**2)<0.3, v[1:-1,1:-1], 0)\n",
    "#v[1:-1,1:-1] = 1/2 * np.transpose(np.where(((xx-Lx/2)**2+(yy-0.15*Ly)**2)<0.2**2, 1, 0))\n",
    "# Pressure field press[i,j] and its gradient (dx_press,dy_press)\n",
    "press = np.zeros((Nx,Ny))\n",
    "dx_press = np.zeros((Nx,Ny))\n",
    "dy_press = np.zeros((Nx,Ny))\n",
    "\n",
    "# Density field\n",
    "ρ0 = 5\n",
    "ρ = ρ0*np.ones((Nx,Ny))\n",
    "#ρ[:, 4*Ny//10 : 8*Ny//10] = 1\n",
    "ρ[1:-1,1:-1] = np.where(((xx-0*Lx/2)**2+(yy-Ly/2)**2)<0.5, 5, 1)\n",
    "ρ[1:-1,1:-1] = np.where(((xx-0*Lx/2)**2+(yy-Ly/2)**2)<0.3, 1, ρ[1:-1,1:-1])\n",
    "ρ[1:-1,1:-1] = np.transpose(np.where(((xx-Lx/2)**2+(yy-0.15*Ly)**2)<0.2**2, 1, 5))"
   ]
  },
  {
   "cell_type": "markdown",
   "metadata": {},
   "source": [
    "On impose les conditions aux bords (sur les GhostPoints) :"
   ]
  },
  {
   "cell_type": "code",
   "execution_count": 6,
   "metadata": {},
   "outputs": [],
   "source": [
    "def VelocityGhostPointsFlatten(u,v):\n",
    "    ### left\n",
    "    u[0:Nx],v[0:Nx] = 0,0\n",
    "    #u[0:Nx],v[0:Nx] = u[Nx:2*Nx],v[Nx:2*Nx]\n",
    "    ### right\n",
    "    u[-Nx:],v[-Nx:] = 0,0\n",
    "    #u[-Nx:],v[-Nx:] = u[-2*Nx:-Nx],v[-2*Nx:-Nx]\n",
    "    ### bottom\n",
    "    u[0::Ny],v[0::Ny] = 0,0\n",
    "    #u[0::Ny],v[0::Ny] = u[1::Ny],v[0::Ny]\n",
    "    ### top          \n",
    "    u[Nx-1::Ny],v[Nx-1::Ny] = 0,0\n",
    "    #u[Nx-1::Ny],v[Nx-1::Ny] = u[Nx-2::Ny],v[Nx-1::Ny]\n",
    "def VelocityGhostPointsFlatten(u,v):\n",
    "    ### left\n",
    "    u[0:Nx],v[0:Nx] = 0,0\n",
    "    #u[0:Nx],v[0:Nx] = u[Nx:2*Nx],v[Nx:2*Nx]\n",
    "    ### right\n",
    "    u[-Nx:],v[-Nx:] = 0,0\n",
    "    #u[-Nx:],v[-Nx:] = u[-2*Nx:-Nx],v[-2*Nx:-Nx]\n",
    "    ### bottom\n",
    "    u[0::Ny],v[0::Ny] = 0,0\n",
    "    #u[0::Ny],v[0::Ny] = u[1::Ny],v[0::Ny]\n",
    "    ### top          \n",
    "    u[Nx-1::Ny],v[Nx-1::Ny] = 0,0\n",
    "    #u[Nx-1::Ny],v[Nx-1::Ny] = u[Nx-2::Ny],v[Nx-1::Ny]\n",
    "def PhiGhostPoints(phi):\n",
    "    ### left\n",
    "    phi[0:Nx] = phi[Nx:2*Nx]\n",
    "    ### right\n",
    "    phi[-Nx:] = phi[-2*Nx:-Nx]\n",
    "    ### bottom               \n",
    "    phi[0::Ny] = phi[1::Ny]\n",
    "    ### top            \n",
    "    phi[Nx-1::Ny] = phi[Nx-2::Ny]\n",
    "def get_density_advected(ρ,u,v):\n",
    "    u = u.reshape((Nx,Ny), order = 'F')\n",
    "    v = v.reshape((Nx,Ny), order = 'F')\n",
    "    ρ = ρ.reshape((Nx,Ny), order = 'F')\n",
    "    # Left:\n",
    "    ρ_l = np.where(u[1,:]<0,Δt/Δx*(u[1,:]*ρ[1,:]-u[0,:]*ρ[0,:])+ ρ[0,:],Δt/Δx*u[0,:]*(1*-ρ[0,:])+ρ[0,:])\n",
    "    ρ[0,:] = 5\n",
    "    # Right:\n",
    "    ρ_r = np.where(u[-2,:]>0,Δt/Δx*(u[-2,:]*ρ[-2,:]-u[-1,:]*ρ[-1,:])+ρ[-1,:],Δt/Δx*u[-1,:]*(1*-ρ[-1,:])+ρ[-1,:])\n",
    "    ρ[-1,:] = 5\n",
    "    # Botton:\n",
    "    ρ_b = np.where(v[:,1]<0,Δt/Δy*(u[:,1]*ρ[:,1]-u[:,0]*ρ[:,0])+ρ[:,0],Δt/Δy*u[:,0]*(1*-ρ[:,0])+ρ[:,0])\n",
    "    ρ[:,  0] = 5\n",
    "    # Top:\n",
    "    ρ_t = np.where(v[:,-2]<0,Δt/Δy*(u[:,-2]*ρ[:,-2]-u[:,-1]*ρ[:,-1])+ρ[:,-1],Δt/Δy*u[:,-1]*(1*-ρ[:,-1])+ρ[:,-1])\n",
    "    ρ[:, -1] = 5\n",
    "    ρ = ρ.flatten('F')\n",
    "    u = u.flatten('F')\n",
    "    v = v.flatten('F')  "
   ]
  },
  {
   "cell_type": "code",
   "execution_count": 7,
   "metadata": {},
   "outputs": [],
   "source": [
    "def VelocityGhostPoints(u,v):\n",
    "    u,v = u.reshape((Nx,Ny), order = 'F'),v.reshape((Nx,Ny), order = 'F')\n",
    "    # ya pas cette histoire de \"frontière = au milieu des cellules de bord ?\"\n",
    "    ### left\n",
    "    u[0, :] = 0*u[1, :]\n",
    "    v[0, :] = 0*v[1, :]\n",
    "    ### right    \n",
    "    u[-1, :] = 0*u[-2, :]    # outflow condition => dérivée nulle\n",
    "    v[-1, :] = 0*v[-2, :]    # outflow condition => dérivée nulle\n",
    "    ### bottom\n",
    "    u[:,  0] = 0  # no slip\n",
    "    v[:,  0] = 0  # imperméabilité\n",
    "    ### top     \n",
    "    u[:, -1] = 0*u[:, -2]\n",
    "    v[:, -1] = 0*v[:, -2]\n",
    "    u,v = u.flatten('F'),v.flatten('F')\n",
    "    \n",
    "def PhiGhostPoints(phi):\n",
    "    phi = phi.reshape((Nx,Ny), order = 'F')\n",
    "    ### left\n",
    "    phi[0, :] = phi[1, :]\n",
    "    ### right\n",
    "    phi[-1, :] = phi[-2, :]\n",
    "    ### bottom               \n",
    "    phi[:,  0] = phi[:,  1]\n",
    "    ### top            \n",
    "    phi[:, -1] = phi[:, -2]\n",
    "    phi = phi.flatten('F')\n",
    "def get_density_advected(ρ,u,v):\n",
    "    u = u.reshape((Nx,Ny), order = 'F')\n",
    "    v = v.reshape((Nx,Ny), order = 'F')\n",
    "    ρ = ρ.reshape((Nx,Ny), order = 'F')\n",
    "    # Left:\n",
    "    ρ[0,:] = 5\n",
    "    # Right:\n",
    "    ρ[-1,:] = 5\n",
    "    # Botton:\n",
    "    ρ[:,  0] = 5\n",
    "    # Top:\n",
    "    ρ[:, -1] = 5\n",
    "    ρ = ρ.flatten('F')\n",
    "    u = u.flatten('F')\n",
    "    v = v.flatten('F')  "
   ]
  },
  {
   "cell_type": "markdown",
   "metadata": {},
   "source": [
    "Ensuite vient la définition de notre schéma :"
   ]
  },
  {
   "cell_type": "code",
   "execution_count": 8,
   "metadata": {},
   "outputs": [],
   "source": [
    "def plot_density(ρ):\n",
    "    plt.figure()\n",
    "    ρ_im = ρ.reshape((Nx,Ny),order = 'F')\n",
    "    plt.imshow(np.transpose(ρ_im), origin='lower', extent=(0,Lx,0,Ly), cmap=plt.cm.RdPu)\n",
    "    plt.colorbar()\n",
    "    plt.show()\n",
    "def plot_scal_and_vel(ρ,u,v):\n",
    "    plt.figure()\n",
    "    modx = Nx//50\n",
    "    mody = Ny//50\n",
    "    ρ_im = ρ.reshape((Nx,Ny), order = 'F')[1:-1,1:-1]\n",
    "    ur, vr = u.reshape((Nx,Ny), order = 'F'), v.reshape((Nx,Ny), order = 'F')\n",
    "    plt.imshow(np.transpose(ρ_im), origin='lower', extent=(0,Lx,0,Ly), cmap=plt.cm.RdPu)\n",
    "    plt.quiver(xx[::modx,::mody], yy[::modx,::mody], np.transpose(ur[1:-1:modx,1:-1:mody]), np.transpose(vr[1:-1:modx,1:-1:mody]), scale=40, angles = 'uv')\n",
    "    plt.colorbar()\n",
    "    plt.show()\n",
    "def plot_mat(Mat, Title = None):\n",
    "    Mat2 = Mat.todense()\n",
    "    plt.figure()\n",
    "    plt.imshow(Mat2)\n",
    "    if Title:\n",
    "        plt.title(Title)\n",
    "    plt.colorbar()\n",
    "    plt.show()\n",
    "def plot_vect(Vect, Title = None):\n",
    "    Vect2 = Vect.reshape((Nx,Ny))\n",
    "    plt.imshow(Vect2.transpose())\n",
    "    if Title:\n",
    "        plt.title(Title)\n",
    "    plt.colorbar()\n",
    "    plt.show()"
   ]
  },
  {
   "cell_type": "code",
   "execution_count": 9,
   "metadata": {},
   "outputs": [],
   "source": [
    "###### CONSTRUCTION des matrices et LU decomposition\n",
    "\n",
    "### Matrix construction for projection step\n",
    "LAP = FD_2D_Laplacian_matrix (Nx, Ny, Δx, Δy, BCdir_left=True, BCdir_right=True, BCdir_top=True, BCdir_bot=True) \n",
    "LAP[1,2] = 1/(Δx*Δy)\n"
   ]
  },
  {
   "cell_type": "code",
   "execution_count": 10,
   "metadata": {},
   "outputs": [],
   "source": [
    "#p = np.ones((Nx*Ny))\n",
    "#Mat = LAP + Deltax + Deltay\n",
    "#phi = lg.spsolve(Mat, p)\n",
    "#B = Mat@phi\n",
    "#plot_density(B)"
   ]
  },
  {
   "cell_type": "code",
   "execution_count": 11,
   "metadata": {},
   "outputs": [],
   "source": [
    "def Divergence_flat (u,v, Δx,Δy):\n",
    "    div = Deltax@u + Deltay@v\n",
    "    return div"
   ]
  },
  {
   "cell_type": "code",
   "execution_count": 12,
   "metadata": {},
   "outputs": [],
   "source": [
    "### Méthode de l'article :\n",
    "## Matrices utiles:\n",
    "datax = [-np.ones(Nx-1), np.zeros(Nx), np.ones(Nx-1)]\n",
    "datax[1][0] = -2\n",
    "datax[2][0] = 2\n",
    "datax[0][-1] = -2\n",
    "datax[1][-1] = 2\n",
    "datay = [-np.ones(Ny-1), np.zeros(Ny), np.ones(Ny-1)]\n",
    "datay[1][0] = -2\n",
    "datay[2][0] = 2\n",
    "datay[0][-1] = -2\n",
    "datay[1][-1] = 2\n",
    "offsets = np.array([-1,0,1])\n",
    "dx,dy = 1/Δx/2, 1/Δy/2\n",
    "DX = sp.diags(datax,offsets, shape=(Nx,Nx),format = 'csr') * dx\n",
    "DY = sp.diags(datay,offsets, shape=(Ny,Ny),format = 'csr') * dy\n",
    "Deltax = sp.kron(sp.eye(Ny,Ny), DX,format = 'csr')\n",
    "Deltay = sp.kron(DY, sp.eye(Nx,Nx), format = 'csr')\n",
    "Id = sp.diags(np.ones((Nx*Ny)), 0, shape = (Nx*Ny,Nx*Ny), format = 'csr')\n",
    "zero = np.zeros((Nx*Ny))\n",
    "A = np.ones((Nx*Ny))\n",
    "α = 0*pi/4\n",
    "fx,fy = +sin(α) * A, -cos(α) *  A #force extérieure\n",
    "    \n",
    "def grad(s,Δx,Δy,Nx,Ny):\n",
    "    return Deltax@s,Deltay@s\n",
    "\n",
    "def advect(u,v,Δx,Δy,Nx,Ny):\n",
    "    uf = sp.diags(u.flatten('F'),0,format = 'csr')\n",
    "    vf = sp.diags(v.flatten('F'),0,format = 'csr')\n",
    "    return uf@Deltax + vf@Deltay\n",
    "\n",
    "def get_rho(u,v,ρ,Nx,Ny,Δx,Δy,Δt): #Corr1\n",
    "    A = Id + Δt*advect(u,v,Δx,Δy,Nx,Ny)\n",
    "    #plot_mat(A)\n",
    "    return lg.spsolve(A,ρ)\n",
    "\n",
    "def approx_u(u,v,ρ,ρ_,s,fx,fy,Δx,Δy,Δt,LAP,Nx,Ny): #prend des entrées flattens pour la densité\n",
    "    a,b = sp.diags(ρ,0,shape = (Nx*Ny,Nx*Ny), format = 'csr'),sp.diags(1/ρ_,0,shape = (Nx*Ny,Nx*Ny), format = 'csr')\n",
    "    A = Id + Δt* b@a@advect(u,v,Δx,Δy,Nx,Ny) - Δt/Re * b@LAP\n",
    "    Nabsx,Nabsy = grad(s,Δx,Δy,Nx,Ny)\n",
    "    RHSx = b@(Δt*fx-Δt/Re * Nabsx) + u.flatten('F')\n",
    "    RHSy = b@(Δt*fy-Δt/Re * Nabsy) + v.flatten('F')\n",
    "    u_hatx = lg.spsolve(A,RHSx)\n",
    "    u_haty = lg.spsolve(A,RHSy)\n",
    "    return u_hatx,u_haty\n",
    "\n",
    "def get_phi(ρ,u_hatx,u_haty,Δx,Δy,Nx,Ny,LAP):\n",
    "    ρ_inv = sp.diags(1/ρ,0, shape = (Nx*Ny,Nx*Ny),format = 'csr')\n",
    "    LapPart = ρ_inv @ LAP\n",
    "    Dx_ρ, Dy_ρ = grad(1/ρ,Δx,Δy,Nx,Ny)\n",
    "    Dx_ρ, Dy_ρ = sp.diags(Dx_ρ,0,shape = (Nx*Ny,Nx*Ny), format = 'csr'),sp.diags(Dy_ρ,0,shape = (Nx*Ny,Nx*Ny), format = 'csr')\n",
    "    Mat = LapPart + Dx_ρ@Deltax+ Dy_ρ@Deltay\n",
    "    RHS = -Divergence_flat(u_hatx,u_haty, Δx,Δy)\n",
    "    phi = lg.spsolve(Mat, RHS)\n",
    "    return phi\n",
    "\n",
    "def update_u_s(s,ρ,phi,u_hatx,u_haty,Δx,Δy):\n",
    "    dX,dY = grad(phi,Δx,Δy,Nx,Ny)\n",
    "    ui = u_hatx + 1/ρ * dX\n",
    "    vi = u_haty + 1/ρ * dY\n",
    "    si = s - Divergence_flat(u_hatx,u_haty, Δx,Δy)\n",
    "    return ui,vi,si"
   ]
  },
  {
   "cell_type": "code",
   "execution_count": null,
   "metadata": {},
   "outputs": [],
   "source": []
  },
  {
   "cell_type": "code",
   "execution_count": 13,
   "metadata": {},
   "outputs": [
    {
     "data": {
      "text/plain": [
       "20.302400000000002"
      ]
     },
     "execution_count": 13,
     "metadata": {},
     "output_type": "execute_result"
    }
   ],
   "source": [
    "## Check mass\n",
    "def mass_check(rho):\n",
    "    return Δx*Δy*np.sum(rho)\n",
    "\n",
    "mass_check(ρ)"
   ]
  },
  {
   "cell_type": "markdown",
   "metadata": {},
   "source": [
    "Paramètres de la boucle :"
   ]
  },
  {
   "cell_type": "code",
   "execution_count": 14,
   "metadata": {},
   "outputs": [],
   "source": [
    "### ATTENTION: dt_init calculer la CFL a chaque iteration... \n",
    "Δt = 0.01\n",
    "\n",
    "t = 0. # total time\n",
    "\n",
    "# parameters\n",
    "Re = 10000 # Reynolds number\n",
    "g = 1\n",
    "s = np.zeros((Nx*Ny),dtype = 'float64') #flatten\n",
    "\n",
    "#fig = plt.figure(1, figsize=(14,7))\n",
    "\n",
    "loop_continue = True\n",
    "def on_close (event):\n",
    "    global loop_continue\n",
    "    loop_continue = False\n",
    "#fig.canvas.mpl_connect('close_event', on_close)\n",
    "\n",
    "\n",
    "niter = 0\n",
    "disp_modulo = 1"
   ]
  },
  {
   "cell_type": "code",
   "execution_count": 18,
   "metadata": {},
   "outputs": [],
   "source": [
    "import warnings\n",
    "#warnings.filterwarnings('error')\n",
    "# Pour des raisons pratiques, toutes les variables sont constamment flatten.\n",
    "# On ne reconstruit que pour l'affichage\n",
    "u = u.flatten('F')\n",
    "v = v.flatten('F')\n",
    "s = np.zeros((Nx*Ny),dtype = 'float64') #flatten\n",
    "\n",
    "niter = 0\n",
    "ims = [ρ]\n",
    "imu = [u]\n",
    "imv = [v]\n",
    "while niter<11:\n",
    "    # Step 1: A PRIORI C'EST JUSTE\n",
    "    ρ_ = ρ.flatten('F').copy()\n",
    "    ρ = get_rho(u,v,ρ_,Nx,Ny,Δx,Δy,Δt)\n",
    "    ims.append(ρ)\n",
    "    get_density_advected(ρ,u,v)\n",
    "    # Step 2: \n",
    "    u_hatx, u_haty = approx_u(u,v,ρ,ρ_,s,fx,fy,Δx,Δy,Δt,LAP,Nx,Ny)\n",
    "    VelocityGhostPoints(u_hatx,u_haty)\n",
    "    #ims.append(u_hatx)\n",
    "    #ims.append(u_hatx)\n",
    "    # Step 3:\n",
    "    phi = get_phi(ρ,u_hatx,u_haty,Δx,Δy,Nx,Ny,LAP)\n",
    "    plot_density(phi)\n",
    "    #ims.append(phi)\n",
    "    #PhiGhostPoints(phi)\n",
    "    # Step 4:\n",
    "    u,v,s = update_u_s(s,ρ,phi,u_hatx,u_haty,Δx,Δy)\n",
    "    #ims.append(u)\n",
    "    #ims.append(v)\n",
    "    imu.append(u)\n",
    "    imv.append(v)\n",
    "    #if niter % 10 ==0:\n",
    "        #plot_density(phi)\n",
    "        #plot_scal_and_vel(ρ,u,v)\n",
    "    t += Δt\n",
    "    niter += 1"
   ]
  },
  {
   "cell_type": "code",
   "execution_count": 19,
   "metadata": {},
   "outputs": [],
   "source": [
    "for i in range(11):\n",
    "    plot_scal_and_vel(ims[i],imu[i],imv[i])"
   ]
  },
  {
   "cell_type": "code",
   "execution_count": 17,
   "metadata": {},
   "outputs": [],
   "source": [
    "inv = sp.diags(1/ρ,0,shape = ((Nx*Ny),(Nx*Ny)))"
   ]
  }
 ],
 "metadata": {
  "kernelspec": {
   "display_name": "Python 3",
   "language": "python",
   "name": "python3"
  },
  "language_info": {
   "codemirror_mode": {
    "name": "ipython",
    "version": 3
   },
   "file_extension": ".py",
   "mimetype": "text/x-python",
   "name": "python",
   "nbconvert_exporter": "python",
   "pygments_lexer": "ipython3",
   "version": "3.7.6"
  }
 },
 "nbformat": 4,
 "nbformat_minor": 4
}
