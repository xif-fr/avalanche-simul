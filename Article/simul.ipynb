{
 "cells": [
  {
   "cell_type": "markdown",
   "metadata": {},
   "source": [
    "Bibliothèques utiles :"
   ]
  },
  {
   "cell_type": "code",
   "execution_count": 1,
   "metadata": {},
   "outputs": [],
   "source": [
    "import numpy as np\n",
    "import matplotlib\n",
    "import matplotlib.pyplot as plt\n",
    "from cfd_common_article import *\n",
    "from math import *\n",
    "import time\n",
    "from scipy.linalg import solve_banded"
   ]
  },
  {
   "cell_type": "code",
   "execution_count": 2,
   "metadata": {},
   "outputs": [],
   "source": [
    "%matplotlib qt"
   ]
  },
  {
   "cell_type": "code",
   "execution_count": 3,
   "metadata": {},
   "outputs": [],
   "source": [
    "plt.ion()"
   ]
  },
  {
   "cell_type": "markdown",
   "metadata": {},
   "source": [
    "Choix du domaine et des paramètres de la discrétisation du problème :"
   ]
  },
  {
   "cell_type": "code",
   "execution_count": 4,
   "metadata": {},
   "outputs": [],
   "source": [
    "##### Domain #####\n",
    "\n",
    "# Domain size\n",
    "Lx = 2.\n",
    "Ly = 2.\n",
    "\n",
    "# Physical grid size\n",
    "Nx_phys = 40\n",
    "Ny_phys = 40\n",
    "Δx = Lx/Nx_phys\n",
    "Δy = Ly/Ny_phys\n",
    "\n",
    "# Numerical grid size, including ghost points\n",
    "Nx = Nx_phys + 2\n",
    "Ny = Ny_phys + 2\n",
    "\n",
    "# Physical grid (x,y)\n",
    "# Due to the \"staggered-like\" approach to boundary conditions with ghost points,\n",
    "#  the border go through the middle of border cells\n",
    "x = np.linspace(Δx/2, Lx-Δx/2, Nx_phys) \n",
    "y = np.linspace(Δy/2, Ly-Δy/2, Ny_phys)\n",
    "[xx,yy] = np.meshgrid(x,y) "
   ]
  },
  {
   "cell_type": "markdown",
   "metadata": {},
   "source": [
    "Initialisation des champs de vitesse / champ de pression et champ de densité :\n",
    "\n",
    "On note $u,v$ les composantes horizontale, verticales du champ de vitesse. On les initialise à :..."
   ]
  },
  {
   "cell_type": "code",
   "execution_count": 5,
   "metadata": {},
   "outputs": [],
   "source": [
    "##### Fields #####\n",
    "\n",
    "# Velocity field (u,v)[i,j], initialized to \"zero\"\n",
    "u = np.zeros((Nx,Ny))\n",
    "v = np.zeros((Nx,Ny))\n",
    "\n",
    "vrand_ampli = 0.1\n",
    "#v += vrand_ampli * ( 1-2*np.random.rand(Nx,Ny) ) # random vertical velocity to speed up the instability\n",
    "\n",
    "# Pressure field press[i,j] and its gradient (dx_press,dy_press)\n",
    "press = np.zeros((Nx,Ny))\n",
    "dx_press = np.zeros((Nx,Ny))\n",
    "dy_press = np.zeros((Nx,Ny))\n",
    "\n",
    "# Density field\n",
    "ρ0 = 5\n",
    "ρ = ρ0*np.ones((Nx,Ny))\n",
    "#ρ[:, 4*Ny//10 : 8*Ny//10] = 1\n",
    "#ρ[1:-1,1:-1] = np.where(((xx-0*Lx/2)**2+(yy-Ly/2)**2)<0.5, 5, 1)\n",
    "#ρ[1:-1,1:-1] = np.where(((xx-0*Lx/2)**2+(yy-Ly/2)**2)<0.3, 1, ρ[1:-1,1:-1])\n",
    "ρ[1:-1,1:-1] = np.transpose(np.where(((xx-Lx/2)**2+(yy-0.15*Ly)**2)<0.2**2, 1, 5))"
   ]
  },
  {
   "cell_type": "markdown",
   "metadata": {},
   "source": [
    "On impose les conditions aux bords (sur les GhostPoints) :"
   ]
  },
  {
   "cell_type": "code",
   "execution_count": 6,
   "metadata": {},
   "outputs": [],
   "source": [
    "def VelocityGhostPoints(u,v):\n",
    "    # ya pas cette histoire de \"frontière = au milieu des cellules de bord ?\"\n",
    "    ### left\n",
    "    u[0, :] = u[1, :]\n",
    "    v[0, :] = v[1, :]\n",
    "    ### right    \n",
    "    u[-1, :] = u[-2, :]    # outflow condition => dérivée nulle\n",
    "    v[-1, :] = v[-2, :]    # outflow condition => dérivée nulle\n",
    "    ### bottom\n",
    "    u[:,  0] = 0  # no slip\n",
    "    v[:,  0] = 0  # imperméabilité\n",
    "    ### top     \n",
    "    u[:, -1] = u[:, -2]\n",
    "    v[:, -1] = v[:, -2]\n",
    "def VelocityGhostPointsFlatten(u,v):\n",
    "    ### left\n",
    "    u[0:Nx],v[0:Nx] = u[Nx:2*Nx],v[Nx:2*Nx]\n",
    "    ### right\n",
    "    u[-Nx:],v[-Nx:] = u[-2*Nx:-Nx],v[-2*Nx:-Nx]\n",
    "    ### bottom               \n",
    "    u[0::Ny],v[0::Ny] = u[1::Ny],v[0::Ny]\n",
    "    ### top            \n",
    "    u[Nx-1::Ny],v[Nx-1::Ny] = u[Nx-2::Ny],v[Nx-1::Ny]\n",
    "def PhiGhostPoints(phi):\n",
    "    ### left\n",
    "    phi[0:Nx] = phi[Nx:2*Nx]\n",
    "    ### right\n",
    "    phi[-Nx:] = phi[-2*Nx:-Nx]\n",
    "    ### bottom               \n",
    "    phi[0::Ny] = phi[1::Ny]\n",
    "    ### top            \n",
    "    phi[Nx-1::Ny] = - phi[Nx-2::Ny]\n",
    "def get_density_advected(ρ,u,v):\n",
    "    ρ = ρ.reshape((Nx,Ny))\n",
    "    # Left:\n",
    "    ρ_l = np.where(u[1,:]<0,Δt/Δx*(u[1,:]*ρ[1,:]-u[0,:]*ρ[0,:]),Δt/Δx*u[0,:]*(1*-ρ[0,:]))\n",
    "    ρ[0,:] = ρ_l\n",
    "    # Right:\n",
    "    ρ_r = np.where(u[-2,:]>0,Δt/Δx*(u[-2,:]*ρ[-2,:]-u[-1,:]*ρ[-1,:]),Δt/Δx*u[-1,:]*(1*-ρ[-1,:]))\n",
    "    ρ[-1,:] = ρ_r \n",
    "    # Botton:\n",
    "    ρ_b = np.where(v[:,1]<0,Δt/Δx*(u[:,1]*ρ[:,1]-u[:,0]*ρ[:,0]),Δt/Δx*u[:,0]*(1*-ρ[:,0]))\n",
    "    ρ[:,  0] = ρ_b\n",
    "    # Top:\n",
    "    ρ_t = np.where(v[:,-2]<0,Δt/Δx*(u[:,-2]*ρ[:,-2]-u[:,-1]*ρ[:,-1]),Δt/Δx*u[:,-1]*(1*-ρ[:,-1]))\n",
    "    ρ[:, -1] = ρ_t\n",
    "    ρ = ρ.flatten()\n",
    "def DensityGhostPoints(ρ):\n",
    "    # ghost points for density : Neumann ∂ρ=0 boundary condition\n",
    "    ρ[ 0, :] = ρ0 #ρ[1, :] # left\n",
    "    ρ[-1, :] = ρ0 #ρ[-2, :] # right\n",
    "    ρ[:,  0] = ρ0 #ρ[:, 1] # bottom\n",
    "    ρ[:, -1] = ρ0 #ρ[:, -2] # top      "
   ]
  },
  {
   "cell_type": "markdown",
   "metadata": {},
   "source": [
    "Ensuite vient la définition de notre schéma :"
   ]
  },
  {
   "cell_type": "code",
   "execution_count": 7,
   "metadata": {},
   "outputs": [],
   "source": [
    "###### CONSTRUCTION des matrices et LU decomposition\n",
    "\n",
    "### Matrix construction for projection step\n",
    "LAP = FD_2D_Laplacian_matrix (Nx, Ny, Δx, Δy, BCdir_left=False, BCdir_right=False, BCdir_top=True, BCdir_bot=False) \n"
   ]
  },
  {
   "cell_type": "code",
   "execution_count": 8,
   "metadata": {},
   "outputs": [],
   "source": [
    "### Méthode de l'article :\n",
    "## Matrices utiles:\n",
    "Nx = 42\n",
    "Ny = 42\n",
    "datax = [np.ones(Nx), np.ones(Nx), np.ones(Nx)]\n",
    "datay = [np.ones(Ny), np.ones(Ny), np.ones(Ny)]\n",
    "offsets = np.array([-1,0,1])\n",
    "dx,dy = 1/Δx/2, 1/Δy/2\n",
    "DX = sp.diags(datax,offsets, shape=(Nx,Nx),format = 'csr') * dx\n",
    "DY = sp.diags(datay,offsets, shape=(Ny,Ny),format = 'csr') * dy\n",
    "Deltax = sp.kron(sp.eye(Ny,Ny), DX,format = 'csr')\n",
    "Deltay = sp.kron(DY, sp.eye(Nx,Nx),format = 'csr')\n",
    "# Retourne la matrice correspondant à (X.Nablda). Ici sous version 2D, prend Nx, Ny la taille de la grille\n",
    "def grad(s,Δx,Δy,Nx,Ny):\n",
    "    return Deltax.dot(s),Deltay.dot(s)\n",
    "\n",
    "def advect(u,v,Δx,Δy,Nx,Ny):\n",
    "    dNx = 1/Δx/2 * (u*np.eye(Nx,Nx,k=-1) - u*np.eye(Nx,Nx,k=1))\n",
    "    dNy = 1/Δy/2*(v*np.eye(Ny,Ny,k=-1)-v*np.eye(Ny,Ny,k=1))\n",
    "    return sp.kron(sp.eye(Ny,Ny), dNx,format = 'csr') + sp.kron(dNy, sp.eye(Nx,Nx),format = 'csr')\n",
    "\n",
    "def get_rho(u,v,ρ,Nx,Ny,Δx,Δy,Δt):#prend des entrées flattens pour la densité\n",
    "    A = np.eye(Nx*Ny)+Δt*advect(u,v,Δx,Δy,Nx,Ny)\n",
    "    return np.linalg.solve(A,ρ)\n",
    "\n",
    "def approx_u(u,v,ρ,ρ_,s,fx,fy,Δx,Δy,Δt,LAP,Nx,Ny): #prend des entrées flattens pour la densité\n",
    "    Re = 100000\n",
    "    A = np.eye(Nx*Ny) + ρ*Δt/ρ_ * advect(u,v,Δx,Δy,Nx,Ny) - Δt/Re * LAP #attention au multiplication par le vecteur colonne...\n",
    "    Nabsx,Nabsy = grad(s,Δx,Δy,Nx,Ny)\n",
    "    u_hatx = lg.spsolve(A,Δt*fx-Δt/Re * Nabsx + u.flatten())\n",
    "    u_haty = lg.spsolve(A,Δt*fy-Δt/Re * Nabsy + v.flatten())\n",
    "    return u_hatx,u_haty\n",
    "\n",
    "def get_phi(ρ,u_hatx,u_haty,Δx,Δy,Nx,Ny,LAP):\n",
    "    ρ_inv = sp.diags([1/ρ],[0], shape = (Nx*Ny,Nx*Ny),format = 'csr')\n",
    "    LapPart = ρ_inv * LAP\n",
    "    Dx_ρ, Dy_ρ = grad(1/ρ,Δx,Δy,Nx,Ny)\n",
    "    Mat = dx * Dx_ρ*Deltax+ dy * Dy_ρ*Deltay + LapPart\n",
    "    RHS = - Divergence_flat(u_hatx,u_haty, Δx,Δy)\n",
    "    phi = lg.spsolve(Mat, RHS)\n",
    "    return phi\n",
    "\n",
    "def update_u_s(u,v,s,ρ,phi,u_hatx,u_haty,Δx,Δy):\n",
    "    dX,dY = grad(phi,Δx,Δy,Nx,Ny)\n",
    "    u = u_hatx + 1/ρ * dX\n",
    "    v = u_haty + 1/ρ * dY\n",
    "    s = s - Divergence_flat(u_hatx,u_haty, Δx,Δy)"
   ]
  },
  {
   "cell_type": "code",
   "execution_count": null,
   "metadata": {},
   "outputs": [],
   "source": []
  },
  {
   "cell_type": "code",
   "execution_count": 9,
   "metadata": {},
   "outputs": [
    {
     "data": {
      "text/plain": [
       "21.530000000000005"
      ]
     },
     "execution_count": 9,
     "metadata": {},
     "output_type": "execute_result"
    }
   ],
   "source": [
    "## Check mass\n",
    "def mass_check(rho):\n",
    "    return Δx*Δy*np.sum(rho)\n",
    "\n",
    "mass_check(ρ)"
   ]
  },
  {
   "cell_type": "code",
   "execution_count": 10,
   "metadata": {},
   "outputs": [],
   "source": [
    "def Divergence_flat (u,v, Δx,Δy):\n",
    "    div = np.empty((Nx,Ny))\n",
    "    u_r, v_r = u.reshape((Nx,Ny)), v.reshape((Nx,Ny))\n",
    "    div[1:-1,1:-1] = ((u_r[2:, 1:-1] - u_r[:-2, 1:-1]) /Δx/2 + (v_r[1:-1, 2:] - v_r[1:-1, :-2]) /Δy/2)\n",
    "    return div.flatten()"
   ]
  },
  {
   "cell_type": "markdown",
   "metadata": {},
   "source": [
    "Paramètres de la boucle :"
   ]
  },
  {
   "cell_type": "code",
   "execution_count": 11,
   "metadata": {},
   "outputs": [],
   "source": [
    "### ATTENTION: dt_init calculer la CFL a chaque iteration... \n",
    "Δt = 0.05\n",
    "\n",
    "t = 0. # total time\n",
    "\n",
    "# parameters\n",
    "Re = 10000 # Reynolds number\n",
    "g = 1\n",
    "α = 0*pi/4\n",
    "s = np.zeros((Nx*Ny),dtype = 'float64') #flatten\n",
    "\n",
    "# how much do we correct for diffusion in semi-lag advection at the price of dispersion\n",
    "ρ_semilag2_coeff = 0.8\n",
    "u_semilag2_coeff = 0.7\n",
    "\n",
    "fig = plt.figure(1, figsize=(14,7))\n",
    "\n",
    "loop_continue = True\n",
    "def on_close (event):\n",
    "    global loop_continue\n",
    "    loop_continue = False\n",
    "fig.canvas.mpl_connect('close_event', on_close)\n",
    "\n",
    "\n",
    "niter = 0\n",
    "disp_modulo = 1"
   ]
  },
  {
   "cell_type": "code",
   "execution_count": 12,
   "metadata": {},
   "outputs": [],
   "source": [
    "def plot_density(ρ):\n",
    "    plt.clf()\n",
    "    ρ_im = ρ.reshape((Nx,Ny))\n",
    "    plt.imshow(np.transpose(ρ_im[1:-1,1:-1]), origin='lower', extent=(0,Lx,0,Ly), cmap=plt.cm.RdPu, vmin=0, vmax=6)\n",
    "    plt.show()"
   ]
  },
  {
   "cell_type": "code",
   "execution_count": 13,
   "metadata": {},
   "outputs": [
    {
     "name": "stderr",
     "output_type": "stream",
     "text": [
      "C:\\Users\\Paul\\anaconda3\\lib\\site-packages\\ipykernel_launcher.py:28: RuntimeWarning: divide by zero encountered in true_divide\n",
      "C:\\Users\\Paul\\anaconda3\\lib\\site-packages\\scipy\\sparse\\linalg\\dsolve\\linsolve.py:138: SparseEfficiencyWarning: spsolve requires A be CSC or CSR matrix format\n",
      "  SparseEfficiencyWarning)\n",
      "C:\\Users\\Paul\\anaconda3\\lib\\site-packages\\scipy\\sparse\\linalg\\dsolve\\linsolve.py:138: SparseEfficiencyWarning: spsolve requires A be CSC or CSR matrix format\n",
      "  SparseEfficiencyWarning)\n",
      "C:\\Users\\Paul\\anaconda3\\lib\\site-packages\\ipykernel_launcher.py:28: RuntimeWarning: divide by zero encountered in true_divide\n",
      "C:\\Users\\Paul\\anaconda3\\lib\\site-packages\\scipy\\sparse\\linalg\\dsolve\\linsolve.py:138: SparseEfficiencyWarning: spsolve requires A be CSC or CSR matrix format\n",
      "  SparseEfficiencyWarning)\n",
      "C:\\Users\\Paul\\anaconda3\\lib\\site-packages\\scipy\\sparse\\linalg\\dsolve\\linsolve.py:138: SparseEfficiencyWarning: spsolve requires A be CSC or CSR matrix format\n",
      "  SparseEfficiencyWarning)\n",
      "C:\\Users\\Paul\\anaconda3\\lib\\site-packages\\ipykernel_launcher.py:28: RuntimeWarning: divide by zero encountered in true_divide\n",
      "C:\\Users\\Paul\\anaconda3\\lib\\site-packages\\scipy\\sparse\\linalg\\dsolve\\linsolve.py:138: SparseEfficiencyWarning: spsolve requires A be CSC or CSR matrix format\n",
      "  SparseEfficiencyWarning)\n",
      "C:\\Users\\Paul\\anaconda3\\lib\\site-packages\\scipy\\sparse\\linalg\\dsolve\\linsolve.py:138: SparseEfficiencyWarning: spsolve requires A be CSC or CSR matrix format\n",
      "  SparseEfficiencyWarning)\n"
     ]
    },
    {
     "ename": "KeyboardInterrupt",
     "evalue": "",
     "output_type": "error",
     "traceback": [
      "\u001b[1;31m---------------------------------------------------------------------------\u001b[0m",
      "\u001b[1;31mKeyboardInterrupt\u001b[0m                         Traceback (most recent call last)",
      "\u001b[1;32m<ipython-input-13-237f019800e2>\u001b[0m in \u001b[0;36m<module>\u001b[1;34m\u001b[0m\n\u001b[0;32m     13\u001b[0m     \u001b[0mVelocityGhostPointsFlatten\u001b[0m\u001b[1;33m(\u001b[0m\u001b[0mu_hatx\u001b[0m\u001b[1;33m,\u001b[0m\u001b[0mu_haty\u001b[0m\u001b[1;33m)\u001b[0m\u001b[1;33m\u001b[0m\u001b[1;33m\u001b[0m\u001b[0m\n\u001b[0;32m     14\u001b[0m     \u001b[1;31m# Step 3:\u001b[0m\u001b[1;33m\u001b[0m\u001b[1;33m\u001b[0m\u001b[1;33m\u001b[0m\u001b[0m\n\u001b[1;32m---> 15\u001b[1;33m     \u001b[0mphi\u001b[0m \u001b[1;33m=\u001b[0m \u001b[0mget_phi\u001b[0m\u001b[1;33m(\u001b[0m\u001b[0mρ\u001b[0m\u001b[1;33m,\u001b[0m\u001b[0mu_hatx\u001b[0m\u001b[1;33m,\u001b[0m\u001b[0mu_haty\u001b[0m\u001b[1;33m,\u001b[0m\u001b[0mΔx\u001b[0m\u001b[1;33m,\u001b[0m\u001b[0mΔy\u001b[0m\u001b[1;33m,\u001b[0m\u001b[0mNx\u001b[0m\u001b[1;33m,\u001b[0m\u001b[0mNy\u001b[0m\u001b[1;33m,\u001b[0m\u001b[0mLAP\u001b[0m\u001b[1;33m)\u001b[0m\u001b[1;33m\u001b[0m\u001b[1;33m\u001b[0m\u001b[0m\n\u001b[0m\u001b[0;32m     16\u001b[0m     \u001b[0mPhiGhostPoints\u001b[0m\u001b[1;33m(\u001b[0m\u001b[0mphi\u001b[0m\u001b[1;33m)\u001b[0m\u001b[1;33m\u001b[0m\u001b[1;33m\u001b[0m\u001b[0m\n\u001b[0;32m     17\u001b[0m     \u001b[1;31m# Step 4:\u001b[0m\u001b[1;33m\u001b[0m\u001b[1;33m\u001b[0m\u001b[1;33m\u001b[0m\u001b[0m\n",
      "\u001b[1;32m<ipython-input-8-9b306470f3a7>\u001b[0m in \u001b[0;36mget_phi\u001b[1;34m(ρ, u_hatx, u_haty, Δx, Δy, Nx, Ny, LAP)\u001b[0m\n\u001b[0;32m     38\u001b[0m     \u001b[0mMat\u001b[0m \u001b[1;33m=\u001b[0m \u001b[0mdx\u001b[0m \u001b[1;33m*\u001b[0m \u001b[0mDx_ρ\u001b[0m\u001b[1;33m*\u001b[0m\u001b[0mDeltax\u001b[0m\u001b[1;33m+\u001b[0m \u001b[0mdy\u001b[0m \u001b[1;33m*\u001b[0m \u001b[0mDy_ρ\u001b[0m\u001b[1;33m*\u001b[0m\u001b[0mDeltay\u001b[0m \u001b[1;33m+\u001b[0m \u001b[0mLapPart\u001b[0m\u001b[1;33m\u001b[0m\u001b[1;33m\u001b[0m\u001b[0m\n\u001b[0;32m     39\u001b[0m     \u001b[0mRHS\u001b[0m \u001b[1;33m=\u001b[0m \u001b[1;33m-\u001b[0m \u001b[0mDivergence_flat\u001b[0m\u001b[1;33m(\u001b[0m\u001b[0mu_hatx\u001b[0m\u001b[1;33m,\u001b[0m\u001b[0mu_haty\u001b[0m\u001b[1;33m,\u001b[0m \u001b[0mΔx\u001b[0m\u001b[1;33m,\u001b[0m\u001b[0mΔy\u001b[0m\u001b[1;33m)\u001b[0m\u001b[1;33m\u001b[0m\u001b[1;33m\u001b[0m\u001b[0m\n\u001b[1;32m---> 40\u001b[1;33m     \u001b[0mphi\u001b[0m \u001b[1;33m=\u001b[0m \u001b[0mlg\u001b[0m\u001b[1;33m.\u001b[0m\u001b[0mspsolve\u001b[0m\u001b[1;33m(\u001b[0m\u001b[0mMat\u001b[0m\u001b[1;33m,\u001b[0m \u001b[0mRHS\u001b[0m\u001b[1;33m)\u001b[0m\u001b[1;33m\u001b[0m\u001b[1;33m\u001b[0m\u001b[0m\n\u001b[0m\u001b[0;32m     41\u001b[0m     \u001b[1;32mreturn\u001b[0m \u001b[0mphi\u001b[0m\u001b[1;33m\u001b[0m\u001b[1;33m\u001b[0m\u001b[0m\n\u001b[0;32m     42\u001b[0m \u001b[1;33m\u001b[0m\u001b[0m\n",
      "\u001b[1;32m~\\anaconda3\\lib\\site-packages\\scipy\\sparse\\linalg\\dsolve\\linsolve.py\u001b[0m in \u001b[0;36mspsolve\u001b[1;34m(A, b, permc_spec, use_umfpack)\u001b[0m\n\u001b[0;32m    194\u001b[0m             \u001b[0moptions\u001b[0m \u001b[1;33m=\u001b[0m \u001b[0mdict\u001b[0m\u001b[1;33m(\u001b[0m\u001b[0mColPerm\u001b[0m\u001b[1;33m=\u001b[0m\u001b[0mpermc_spec\u001b[0m\u001b[1;33m)\u001b[0m\u001b[1;33m\u001b[0m\u001b[1;33m\u001b[0m\u001b[0m\n\u001b[0;32m    195\u001b[0m             x, info = _superlu.gssv(N, A.nnz, A.data, A.indices, A.indptr,\n\u001b[1;32m--> 196\u001b[1;33m                                     b, flag, options=options)\n\u001b[0m\u001b[0;32m    197\u001b[0m             \u001b[1;32mif\u001b[0m \u001b[0minfo\u001b[0m \u001b[1;33m!=\u001b[0m \u001b[1;36m0\u001b[0m\u001b[1;33m:\u001b[0m\u001b[1;33m\u001b[0m\u001b[1;33m\u001b[0m\u001b[0m\n\u001b[0;32m    198\u001b[0m                 \u001b[0mwarn\u001b[0m\u001b[1;33m(\u001b[0m\u001b[1;34m\"Matrix is exactly singular\"\u001b[0m\u001b[1;33m,\u001b[0m \u001b[0mMatrixRankWarning\u001b[0m\u001b[1;33m)\u001b[0m\u001b[1;33m\u001b[0m\u001b[1;33m\u001b[0m\u001b[0m\n",
      "\u001b[1;31mKeyboardInterrupt\u001b[0m: "
     ]
    }
   ],
   "source": [
    "# Pour des raisons pratiques, toutes les variables sont constamment flatten.\n",
    "# On ne reconstruit que pour l'affichage\n",
    "A = np.ones((Nx*Ny))\n",
    "fx,fy = +sin(α) * Δt * A, -cos(α) * Δt * A\n",
    "plt.figure()\n",
    "while niter<101:\n",
    "    # Step 1:\n",
    "    ρ_ = ρ.flatten()\n",
    "    ρ = get_rho(u,v,ρ_,Nx,Ny,Δx,Δy,Δt)\n",
    "    get_density_advected(ρ,u,v)\n",
    "    # Step 2: \n",
    "    u_hatx, u_haty = approx_u(u,v,ρ,ρ_,s,fx,fy,Δx,Δy,Δt,LAP,Nx,Ny)\n",
    "    VelocityGhostPointsFlatten(u_hatx,u_haty)\n",
    "    # Step 3:\n",
    "    phi = get_phi(ρ,u_hatx,u_haty,Δx,Δy,Nx,Ny,LAP)\n",
    "    PhiGhostPoints(phi)\n",
    "    # Step 4:\n",
    "    update_u_s(u,v,s,ρ,phi,u_hatx,u_haty,Δx,Δy)\n",
    "    \n",
    "    if (niter == 100):\n",
    "        plot_density(ρ)\n",
    "        mpl_pause_background(0.00001)\n",
    "        \n",
    "    t += Δt\n",
    "    niter += 1"
   ]
  },
  {
   "cell_type": "code",
   "execution_count": null,
   "metadata": {},
   "outputs": [],
   "source": []
  },
  {
   "cell_type": "code",
   "execution_count": null,
   "metadata": {},
   "outputs": [],
   "source": []
  }
 ],
 "metadata": {
  "kernelspec": {
   "display_name": "Python 3",
   "language": "python",
   "name": "python3"
  },
  "language_info": {
   "codemirror_mode": {
    "name": "ipython",
    "version": 3
   },
   "file_extension": ".py",
   "mimetype": "text/x-python",
   "name": "python",
   "nbconvert_exporter": "python",
   "pygments_lexer": "ipython3",
   "version": "3.7.6"
  }
 },
 "nbformat": 4,
 "nbformat_minor": 4
}
