{
 "cells": [
  {
   "cell_type": "markdown",
   "metadata": {},
   "source": [
    "Libraries utiles :"
   ]
  },
  {
   "cell_type": "code",
   "execution_count": 1,
   "metadata": {},
   "outputs": [],
   "source": [
    "import sys\n",
    "import numpy as np\n",
    "import scipy.sparse as sp\n",
    "import scipy.sparse.linalg as lg\n",
    "import matplotlib\n",
    "import matplotlib.pyplot as plt\n",
    "from cfd_common import *\n",
    "from math import *"
   ]
  },
  {
   "cell_type": "code",
   "execution_count": 2,
   "metadata": {},
   "outputs": [],
   "source": [
    "%matplotlib qt"
   ]
  },
  {
   "cell_type": "code",
   "execution_count": 3,
   "metadata": {},
   "outputs": [],
   "source": [
    "plt.ion()"
   ]
  },
  {
   "cell_type": "markdown",
   "metadata": {},
   "source": [
    "Choix du domaine et des paramètres de la discrétisation du problème :"
   ]
  },
  {
   "cell_type": "code",
   "execution_count": 4,
   "metadata": {},
   "outputs": [],
   "source": [
    "##### Domain #####\n",
    "\n",
    "# Domain size\n",
    "Lx = 4.\n",
    "Ly = 2.\n",
    "\n",
    "# Physical grid size\n",
    "Nx_phys = 50*2\n",
    "Ny_phys = 50\n",
    "Δx = Lx/Nx_phys\n",
    "Δy = Ly/Ny_phys\n",
    "ΔxΔy = Δx*Δy\n",
    "# Numerical grid size, including ghost points\n",
    "Nx = Nx_phys + 2\n",
    "Ny = Ny_phys + 2\n",
    "\n",
    "# Physical grid (x,y)\n",
    "# Due to the \"staggered-like\" approach to boundary conditions with ghost points,\n",
    "#  the border go through the middle of border cells\n",
    "x = np.linspace(Δx/2, Lx-Δx/2, Nx_phys) \n",
    "y = np.linspace(Δy/2, Ly-Δy/2, Ny_phys)\n",
    "[xx,yy] = np.meshgrid(x,y) "
   ]
  },
  {
   "cell_type": "markdown",
   "metadata": {},
   "source": [
    "Initialisation des champs de vitesse / champ de pression et champ de densité :\n",
    "\n",
    "On note $u,v$ les composantes horizontale, verticales du champ de vitesse. On les initialise à :..."
   ]
  },
  {
   "cell_type": "code",
   "execution_count": 5,
   "metadata": {},
   "outputs": [],
   "source": [
    "##### Fields #####\n",
    "\n",
    "# Velocity field (u,v)[i,j], initialized to \"zero\"\n",
    "u = np.zeros((Nx,Ny))\n",
    "v = np.zeros((Nx,Ny))\n",
    "\n",
    "# Pressure field press[i,j] and its gradient (dx_press,dy_press)\n",
    "press = np.zeros((Nx,Ny))\n",
    "dx_press = np.zeros((Nx,Ny))\n",
    "dy_press = np.zeros((Nx,Ny))\n",
    "\n",
    "# Density field\n",
    "ρ = np.ones((Nx,Ny))\n",
    "ρ[:, 4*Ny//10 : 8*Ny//10] = 2"
   ]
  },
  {
   "cell_type": "markdown",
   "metadata": {},
   "source": [
    "On impose les conditions aux bords (sur les GhostPoints) :"
   ]
  },
  {
   "cell_type": "code",
   "execution_count": 6,
   "metadata": {},
   "outputs": [],
   "source": [
    "def VelocityGhostPoints(u,v):\n",
    "    # ya pas cette histoire de \"frontière = au milieu des cellules de bord ?\"\n",
    "    ### left\n",
    "    u[0, :] = u[1, :]\n",
    "    v[0, :] = v[1, :]\n",
    "    ### right    \n",
    "    u[-1, :] = u[-2, :]    # outflow condition => dérivée nulle\n",
    "    v[-1, :] = v[-2, :]    # outflow condition => dérivée nulle\n",
    "    ### bottom\n",
    "    u[:,  0] = 0  # no slip\n",
    "    v[:,  0] = 0  # imperméabilité\n",
    "    ### top     \n",
    "    u[:, -1] = 0#u[:, -2]\n",
    "    v[:, -1] = 0#v[:, -2]\n",
    "    \n",
    "def PhiGhostPoints(phi):\n",
    "    ### left\n",
    "    phi[0,  :] = phi[1,  :]\n",
    "    ### right             \n",
    "    phi[-1, :] = -phi[-2, :]\n",
    "    ### bottom               \n",
    "    phi[:,  0] = phi[:,  1]*0\n",
    "    ### top            \n",
    "    phi[:, -1] = phi[:, -2]*0\n",
    "\n",
    "def DensityGhostPoints(ρ):\n",
    "    # ghost points for density : Neumann ∂ρ=0 boundary condition\n",
    "    ρ[ 0, :] = ρ[1, :] # left\n",
    "    ρ[-1, :] = ρ[-2, :] # right\n",
    "    ρ[:,  0] = ρ[:, 1] # bottom\n",
    "    ρ[:, -1] = ρ[:, -2] # top  "
   ]
  },
  {
   "cell_type": "markdown",
   "metadata": {},
   "source": [
    "Ensuite vient la définition de notre schéma :"
   ]
  },
  {
   "cell_type": "code",
   "execution_count": 7,
   "metadata": {},
   "outputs": [],
   "source": [
    "###### CONSTRUCTION des matrices et LU decomposition\n",
    "\n",
    "### Matrix construction for projection step\n",
    "LAPN = FD_2D_Laplacian_matrix (Nx_phys, Ny_phys, Δx, Δy, BCdir_left=False, BCdir_right=True, BCdir_top=False, BCdir_bot=False) \n",
    "LUPN = LUdecomposition(LAPN)"
   ]
  },
  {
   "cell_type": "code",
   "execution_count": 8,
   "metadata": {},
   "outputs": [
    {
     "data": {
      "text/plain": [
       "7446.0"
      ]
     },
     "execution_count": 8,
     "metadata": {},
     "output_type": "execute_result"
    }
   ],
   "source": [
    "## Check mass\n",
    "def mass_check(rho):\n",
    "    return np.sum(rho)\n",
    "\n",
    "mass_check(ρ)"
   ]
  },
  {
   "cell_type": "markdown",
   "metadata": {},
   "source": [
    "Puis la boucle principale de calcul :"
   ]
  },
  {
   "cell_type": "code",
   "execution_count": 9,
   "metadata": {},
   "outputs": [
    {
     "name": "stderr",
     "output_type": "stream",
     "text": [
      "C:\\Users\\My-pr\\Desktop\\avalanche-simul-main\\cfd_common.py:98: RuntimeWarning: overflow encountered in multiply\n",
      "  Cc * q[1:-1, 1:-1]\n",
      "C:\\Users\\My-pr\\Desktop\\avalanche-simul-main\\cfd_common.py:99: RuntimeWarning: overflow encountered in multiply\n",
      "  + Ce * ( Mx1*My1 * q[2: , 2: ]\n",
      "C:\\Users\\My-pr\\Desktop\\avalanche-simul-main\\cfd_common.py:98: RuntimeWarning: invalid value encountered in add\n",
      "  Cc * q[1:-1, 1:-1]\n",
      "C:\\Users\\My-pr\\Desktop\\avalanche-simul-main\\cfd_common.py:103: RuntimeWarning: overflow encountered in multiply\n",
      "  + Cmx * ( My1 * q[1:-1, 2:]\n",
      "C:\\Users\\My-pr\\Desktop\\avalanche-simul-main\\cfd_common.py:98: RuntimeWarning: overflow encountered in add\n",
      "  Cc * q[1:-1, 1:-1]\n",
      "C:\\Users\\My-pr\\Desktop\\avalanche-simul-main\\cfd_common.py:105: RuntimeWarning: overflow encountered in multiply\n",
      "  + Cmy * ( Mx1 * q[2:, 1:-1]\n",
      "C:\\Users\\My-pr\\Desktop\\avalanche-simul-main\\cfd_common.py:152: RuntimeWarning: invalid value encountered in subtract\n",
      "  (u[2:, 1:-1] - u[:-2, 1:-1]) /Δx/2\n",
      "C:\\Users\\My-pr\\Desktop\\avalanche-simul-main\\cfd_common.py:152: RuntimeWarning: overflow encountered in true_divide\n",
      "  (u[2:, 1:-1] - u[:-2, 1:-1]) /Δx/2\n",
      "C:\\Users\\My-pr\\Desktop\\avalanche-simul-main\\cfd_common.py:153: RuntimeWarning: invalid value encountered in subtract\n",
      "  + (v[1:-1, 2:] - v[1:-1, :-2]) /Δy/2\n",
      "C:\\Users\\My-pr\\Desktop\\avalanche-simul-main\\cfd_common.py:153: RuntimeWarning: overflow encountered in true_divide\n",
      "  + (v[1:-1, 2:] - v[1:-1, :-2]) /Δy/2\n",
      "C:\\Users\\My-pr\\Desktop\\avalanche-simul-main\\cfd_common.py:152: RuntimeWarning: invalid value encountered in add\n",
      "  (u[2:, 1:-1] - u[:-2, 1:-1]) /Δx/2\n",
      "C:\\Users\\My-pr\\Desktop\\avalanche-simul-main\\cfd_common.py:120: RuntimeWarning: overflow encountered in multiply\n",
      "  adv_q = SemiLag(u,v, (3*q-qback)/2, Δx,Δy, Δt)\n",
      "ERROR:root:Internal Python error in the inspect module.\n",
      "Below is the traceback from this internal error.\n",
      "\n"
     ]
    },
    {
     "name": "stdout",
     "output_type": "stream",
     "text": [
      "Traceback (most recent call last):\n",
      "  File \"C:\\ProgramData\\Miniconda3\\lib\\site-packages\\IPython\\core\\interactiveshell.py\", line 3418, in run_code\n",
      "    exec(code_obj, self.user_global_ns, self.user_ns)\n",
      "  File \"<ipython-input-9-323e15b6a8a9>\", line 26, in <module>\n",
      "    ρ = SemiLag2(u,v, ρ, Δx,Δy,Δt)\n",
      "  File \"C:\\Users\\My-pr\\Desktop\\avalanche-simul-main\\cfd_common.py\", line 120, in SemiLag2\n",
      "    adv_q = SemiLag(u,v, (3*q-qback)/2, Δx,Δy, Δt)\n",
      "  File \"C:\\Users\\My-pr\\Desktop\\avalanche-simul-main\\cfd_common.py\", line 90, in SemiLag\n",
      "    Cc = (Δx - au*Δt) * (Δy - av*Δt) / ΔxΔy\n",
      "KeyboardInterrupt\n",
      "\n",
      "During handling of the above exception, another exception occurred:\n",
      "\n",
      "Traceback (most recent call last):\n",
      "  File \"C:\\ProgramData\\Miniconda3\\lib\\site-packages\\IPython\\core\\interactiveshell.py\", line 2045, in showtraceback\n",
      "    stb = value._render_traceback_()\n",
      "AttributeError: 'KeyboardInterrupt' object has no attribute '_render_traceback_'\n",
      "\n",
      "During handling of the above exception, another exception occurred:\n",
      "\n",
      "Traceback (most recent call last):\n",
      "  File \"C:\\ProgramData\\Miniconda3\\lib\\site-packages\\IPython\\core\\ultratb.py\", line 1170, in get_records\n",
      "    return _fixed_getinnerframes(etb, number_of_lines_of_context, tb_offset)\n",
      "  File \"C:\\ProgramData\\Miniconda3\\lib\\site-packages\\IPython\\core\\ultratb.py\", line 316, in wrapped\n",
      "    return f(*args, **kwargs)\n",
      "  File \"C:\\ProgramData\\Miniconda3\\lib\\site-packages\\IPython\\core\\ultratb.py\", line 350, in _fixed_getinnerframes\n",
      "    records = fix_frame_records_filenames(inspect.getinnerframes(etb, context))\n",
      "  File \"C:\\ProgramData\\Miniconda3\\lib\\inspect.py\", line 1503, in getinnerframes\n",
      "    frameinfo = (tb.tb_frame,) + getframeinfo(tb, context)\n",
      "  File \"C:\\ProgramData\\Miniconda3\\lib\\inspect.py\", line 1461, in getframeinfo\n",
      "    filename = getsourcefile(frame) or getfile(frame)\n",
      "  File \"C:\\ProgramData\\Miniconda3\\lib\\inspect.py\", line 708, in getsourcefile\n",
      "    if getattr(getmodule(object, filename), '__loader__', None) is not None:\n",
      "  File \"C:\\ProgramData\\Miniconda3\\lib\\inspect.py\", line 754, in getmodule\n",
      "    os.path.realpath(f)] = module.__name__\n",
      "  File \"C:\\ProgramData\\Miniconda3\\lib\\ntpath.py\", line 664, in realpath\n",
      "    if _getfinalpathname(spath) == path:\n",
      "KeyboardInterrupt\n"
     ]
    },
    {
     "ename": "TypeError",
     "evalue": "object of type 'NoneType' has no len()",
     "output_type": "error",
     "traceback": [
      "\u001b[1;31m---------------------------------------------------------------------------\u001b[0m",
      "\u001b[1;31mKeyboardInterrupt\u001b[0m                         Traceback (most recent call last)",
      "    \u001b[1;31m[... skipping hidden 1 frame]\u001b[0m\n",
      "\u001b[1;32m<ipython-input-9-323e15b6a8a9>\u001b[0m in \u001b[0;36m<module>\u001b[1;34m\u001b[0m\n\u001b[0;32m     25\u001b[0m \u001b[1;33m\u001b[0m\u001b[0m\n\u001b[1;32m---> 26\u001b[1;33m     \u001b[0mρ\u001b[0m \u001b[1;33m=\u001b[0m \u001b[0mSemiLag2\u001b[0m\u001b[1;33m(\u001b[0m\u001b[0mu\u001b[0m\u001b[1;33m,\u001b[0m\u001b[0mv\u001b[0m\u001b[1;33m,\u001b[0m \u001b[0mρ\u001b[0m\u001b[1;33m,\u001b[0m \u001b[0mΔx\u001b[0m\u001b[1;33m,\u001b[0m\u001b[0mΔy\u001b[0m\u001b[1;33m,\u001b[0m\u001b[0mΔt\u001b[0m\u001b[1;33m)\u001b[0m\u001b[1;33m\u001b[0m\u001b[1;33m\u001b[0m\u001b[0m\n\u001b[0m\u001b[0;32m     27\u001b[0m     \u001b[1;31m# c'est totalement instable avec SemiLag2, pourquoi ????\u001b[0m\u001b[1;33m\u001b[0m\u001b[1;33m\u001b[0m\u001b[1;33m\u001b[0m\u001b[0m\n",
      "\u001b[1;32m~\\Desktop\\avalanche-simul-main\\cfd_common.py\u001b[0m in \u001b[0;36mSemiLag2\u001b[1;34m(u, v, q, Δx, Δy, Δt)\u001b[0m\n\u001b[0;32m    119\u001b[0m         \u001b[1;31m# qcorr = q + (q-qback)/2\u001b[0m\u001b[1;33m\u001b[0m\u001b[1;33m\u001b[0m\u001b[1;33m\u001b[0m\u001b[0m\n\u001b[1;32m--> 120\u001b[1;33m         \u001b[0madv_q\u001b[0m \u001b[1;33m=\u001b[0m \u001b[0mSemiLag\u001b[0m\u001b[1;33m(\u001b[0m\u001b[0mu\u001b[0m\u001b[1;33m,\u001b[0m\u001b[0mv\u001b[0m\u001b[1;33m,\u001b[0m \u001b[1;33m(\u001b[0m\u001b[1;36m3\u001b[0m\u001b[1;33m*\u001b[0m\u001b[0mq\u001b[0m\u001b[1;33m-\u001b[0m\u001b[0mqback\u001b[0m\u001b[1;33m)\u001b[0m\u001b[1;33m/\u001b[0m\u001b[1;36m2\u001b[0m\u001b[1;33m,\u001b[0m \u001b[0mΔx\u001b[0m\u001b[1;33m,\u001b[0m\u001b[0mΔy\u001b[0m\u001b[1;33m,\u001b[0m \u001b[0mΔt\u001b[0m\u001b[1;33m)\u001b[0m\u001b[1;33m\u001b[0m\u001b[1;33m\u001b[0m\u001b[0m\n\u001b[0m\u001b[0;32m    121\u001b[0m         \u001b[1;32mreturn\u001b[0m \u001b[0madv_q\u001b[0m\u001b[1;33m\u001b[0m\u001b[1;33m\u001b[0m\u001b[0m\n",
      "\u001b[1;32m~\\Desktop\\avalanche-simul-main\\cfd_common.py\u001b[0m in \u001b[0;36mSemiLag\u001b[1;34m(u, v, q, Δx, Δy, Δt)\u001b[0m\n\u001b[0;32m     89\u001b[0m         \u001b[0mΔxΔy\u001b[0m \u001b[1;33m=\u001b[0m \u001b[0mΔx\u001b[0m\u001b[1;33m*\u001b[0m\u001b[0mΔy\u001b[0m\u001b[1;33m\u001b[0m\u001b[1;33m\u001b[0m\u001b[0m\n\u001b[1;32m---> 90\u001b[1;33m         \u001b[0mCc\u001b[0m \u001b[1;33m=\u001b[0m \u001b[1;33m(\u001b[0m\u001b[0mΔx\u001b[0m \u001b[1;33m-\u001b[0m \u001b[0mau\u001b[0m\u001b[1;33m*\u001b[0m\u001b[0mΔt\u001b[0m\u001b[1;33m)\u001b[0m \u001b[1;33m*\u001b[0m \u001b[1;33m(\u001b[0m\u001b[0mΔy\u001b[0m \u001b[1;33m-\u001b[0m \u001b[0mav\u001b[0m\u001b[1;33m*\u001b[0m\u001b[0mΔt\u001b[0m\u001b[1;33m)\u001b[0m \u001b[1;33m/\u001b[0m \u001b[0mΔxΔy\u001b[0m\u001b[1;33m\u001b[0m\u001b[1;33m\u001b[0m\u001b[0m\n\u001b[0m\u001b[0;32m     91\u001b[0m         \u001b[0mCe\u001b[0m \u001b[1;33m=\u001b[0m \u001b[0mΔt\u001b[0m\u001b[1;33m*\u001b[0m\u001b[0mΔt\u001b[0m\u001b[1;33m*\u001b[0m\u001b[0mau\u001b[0m \u001b[1;33m*\u001b[0m \u001b[0mav\u001b[0m \u001b[1;33m/\u001b[0m \u001b[0mΔxΔy\u001b[0m\u001b[1;33m\u001b[0m\u001b[1;33m\u001b[0m\u001b[0m\n",
      "\u001b[1;31mKeyboardInterrupt\u001b[0m: ",
      "\nDuring handling of the above exception, another exception occurred:\n",
      "\u001b[1;31mAttributeError\u001b[0m                            Traceback (most recent call last)",
      "\u001b[1;32mC:\\ProgramData\\Miniconda3\\lib\\site-packages\\IPython\\core\\interactiveshell.py\u001b[0m in \u001b[0;36mshowtraceback\u001b[1;34m(self, exc_tuple, filename, tb_offset, exception_only, running_compiled_code)\u001b[0m\n\u001b[0;32m   2044\u001b[0m                         \u001b[1;31m# in the engines. This should return a list of strings.\u001b[0m\u001b[1;33m\u001b[0m\u001b[1;33m\u001b[0m\u001b[1;33m\u001b[0m\u001b[0m\n\u001b[1;32m-> 2045\u001b[1;33m                         \u001b[0mstb\u001b[0m \u001b[1;33m=\u001b[0m \u001b[0mvalue\u001b[0m\u001b[1;33m.\u001b[0m\u001b[0m_render_traceback_\u001b[0m\u001b[1;33m(\u001b[0m\u001b[1;33m)\u001b[0m\u001b[1;33m\u001b[0m\u001b[1;33m\u001b[0m\u001b[0m\n\u001b[0m\u001b[0;32m   2046\u001b[0m                     \u001b[1;32mexcept\u001b[0m \u001b[0mException\u001b[0m\u001b[1;33m:\u001b[0m\u001b[1;33m\u001b[0m\u001b[1;33m\u001b[0m\u001b[0m\n",
      "\u001b[1;31mAttributeError\u001b[0m: 'KeyboardInterrupt' object has no attribute '_render_traceback_'",
      "\nDuring handling of the above exception, another exception occurred:\n",
      "\u001b[1;31mTypeError\u001b[0m                                 Traceback (most recent call last)",
      "    \u001b[1;31m[... skipping hidden 1 frame]\u001b[0m\n",
      "\u001b[1;32mC:\\ProgramData\\Miniconda3\\lib\\site-packages\\IPython\\core\\interactiveshell.py\u001b[0m in \u001b[0;36mshowtraceback\u001b[1;34m(self, exc_tuple, filename, tb_offset, exception_only, running_compiled_code)\u001b[0m\n\u001b[0;32m   2045\u001b[0m                         \u001b[0mstb\u001b[0m \u001b[1;33m=\u001b[0m \u001b[0mvalue\u001b[0m\u001b[1;33m.\u001b[0m\u001b[0m_render_traceback_\u001b[0m\u001b[1;33m(\u001b[0m\u001b[1;33m)\u001b[0m\u001b[1;33m\u001b[0m\u001b[1;33m\u001b[0m\u001b[0m\n\u001b[0;32m   2046\u001b[0m                     \u001b[1;32mexcept\u001b[0m \u001b[0mException\u001b[0m\u001b[1;33m:\u001b[0m\u001b[1;33m\u001b[0m\u001b[1;33m\u001b[0m\u001b[0m\n\u001b[1;32m-> 2047\u001b[1;33m                         stb = self.InteractiveTB.structured_traceback(etype,\n\u001b[0m\u001b[0;32m   2048\u001b[0m                                             value, tb, tb_offset=tb_offset)\n\u001b[0;32m   2049\u001b[0m \u001b[1;33m\u001b[0m\u001b[0m\n",
      "\u001b[1;32mC:\\ProgramData\\Miniconda3\\lib\\site-packages\\IPython\\core\\ultratb.py\u001b[0m in \u001b[0;36mstructured_traceback\u001b[1;34m(self, etype, value, tb, tb_offset, number_of_lines_of_context)\u001b[0m\n\u001b[0;32m   1434\u001b[0m         \u001b[1;32melse\u001b[0m\u001b[1;33m:\u001b[0m\u001b[1;33m\u001b[0m\u001b[1;33m\u001b[0m\u001b[0m\n\u001b[0;32m   1435\u001b[0m             \u001b[0mself\u001b[0m\u001b[1;33m.\u001b[0m\u001b[0mtb\u001b[0m \u001b[1;33m=\u001b[0m \u001b[0mtb\u001b[0m\u001b[1;33m\u001b[0m\u001b[1;33m\u001b[0m\u001b[0m\n\u001b[1;32m-> 1436\u001b[1;33m         return FormattedTB.structured_traceback(\n\u001b[0m\u001b[0;32m   1437\u001b[0m             self, etype, value, tb, tb_offset, number_of_lines_of_context)\n\u001b[0;32m   1438\u001b[0m \u001b[1;33m\u001b[0m\u001b[0m\n",
      "\u001b[1;32mC:\\ProgramData\\Miniconda3\\lib\\site-packages\\IPython\\core\\ultratb.py\u001b[0m in \u001b[0;36mstructured_traceback\u001b[1;34m(self, etype, value, tb, tb_offset, number_of_lines_of_context)\u001b[0m\n\u001b[0;32m   1334\u001b[0m         \u001b[1;32mif\u001b[0m \u001b[0mmode\u001b[0m \u001b[1;32min\u001b[0m \u001b[0mself\u001b[0m\u001b[1;33m.\u001b[0m\u001b[0mverbose_modes\u001b[0m\u001b[1;33m:\u001b[0m\u001b[1;33m\u001b[0m\u001b[1;33m\u001b[0m\u001b[0m\n\u001b[0;32m   1335\u001b[0m             \u001b[1;31m# Verbose modes need a full traceback\u001b[0m\u001b[1;33m\u001b[0m\u001b[1;33m\u001b[0m\u001b[1;33m\u001b[0m\u001b[0m\n\u001b[1;32m-> 1336\u001b[1;33m             return VerboseTB.structured_traceback(\n\u001b[0m\u001b[0;32m   1337\u001b[0m                 \u001b[0mself\u001b[0m\u001b[1;33m,\u001b[0m \u001b[0metype\u001b[0m\u001b[1;33m,\u001b[0m \u001b[0mvalue\u001b[0m\u001b[1;33m,\u001b[0m \u001b[0mtb\u001b[0m\u001b[1;33m,\u001b[0m \u001b[0mtb_offset\u001b[0m\u001b[1;33m,\u001b[0m \u001b[0mnumber_of_lines_of_context\u001b[0m\u001b[1;33m\u001b[0m\u001b[1;33m\u001b[0m\u001b[0m\n\u001b[0;32m   1338\u001b[0m             )\n",
      "\u001b[1;32mC:\\ProgramData\\Miniconda3\\lib\\site-packages\\IPython\\core\\ultratb.py\u001b[0m in \u001b[0;36mstructured_traceback\u001b[1;34m(self, etype, evalue, etb, tb_offset, number_of_lines_of_context)\u001b[0m\n\u001b[0;32m   1191\u001b[0m         \u001b[1;34m\"\"\"Return a nice text document describing the traceback.\"\"\"\u001b[0m\u001b[1;33m\u001b[0m\u001b[1;33m\u001b[0m\u001b[0m\n\u001b[0;32m   1192\u001b[0m \u001b[1;33m\u001b[0m\u001b[0m\n\u001b[1;32m-> 1193\u001b[1;33m         formatted_exception = self.format_exception_as_a_whole(etype, evalue, etb, number_of_lines_of_context,\n\u001b[0m\u001b[0;32m   1194\u001b[0m                                                                tb_offset)\n\u001b[0;32m   1195\u001b[0m \u001b[1;33m\u001b[0m\u001b[0m\n",
      "\u001b[1;32mC:\\ProgramData\\Miniconda3\\lib\\site-packages\\IPython\\core\\ultratb.py\u001b[0m in \u001b[0;36mformat_exception_as_a_whole\u001b[1;34m(self, etype, evalue, etb, number_of_lines_of_context, tb_offset)\u001b[0m\n\u001b[0;32m   1149\u001b[0m \u001b[1;33m\u001b[0m\u001b[0m\n\u001b[0;32m   1150\u001b[0m \u001b[1;33m\u001b[0m\u001b[0m\n\u001b[1;32m-> 1151\u001b[1;33m         \u001b[0mlast_unique\u001b[0m\u001b[1;33m,\u001b[0m \u001b[0mrecursion_repeat\u001b[0m \u001b[1;33m=\u001b[0m \u001b[0mfind_recursion\u001b[0m\u001b[1;33m(\u001b[0m\u001b[0morig_etype\u001b[0m\u001b[1;33m,\u001b[0m \u001b[0mevalue\u001b[0m\u001b[1;33m,\u001b[0m \u001b[0mrecords\u001b[0m\u001b[1;33m)\u001b[0m\u001b[1;33m\u001b[0m\u001b[1;33m\u001b[0m\u001b[0m\n\u001b[0m\u001b[0;32m   1152\u001b[0m \u001b[1;33m\u001b[0m\u001b[0m\n\u001b[0;32m   1153\u001b[0m         \u001b[0mframes\u001b[0m \u001b[1;33m=\u001b[0m \u001b[0mself\u001b[0m\u001b[1;33m.\u001b[0m\u001b[0mformat_records\u001b[0m\u001b[1;33m(\u001b[0m\u001b[0mrecords\u001b[0m\u001b[1;33m,\u001b[0m \u001b[0mlast_unique\u001b[0m\u001b[1;33m,\u001b[0m \u001b[0mrecursion_repeat\u001b[0m\u001b[1;33m)\u001b[0m\u001b[1;33m\u001b[0m\u001b[1;33m\u001b[0m\u001b[0m\n",
      "\u001b[1;32mC:\\ProgramData\\Miniconda3\\lib\\site-packages\\IPython\\core\\ultratb.py\u001b[0m in \u001b[0;36mfind_recursion\u001b[1;34m(etype, value, records)\u001b[0m\n\u001b[0;32m    449\u001b[0m     \u001b[1;31m# first frame (from in to out) that looks different.\u001b[0m\u001b[1;33m\u001b[0m\u001b[1;33m\u001b[0m\u001b[1;33m\u001b[0m\u001b[0m\n\u001b[0;32m    450\u001b[0m     \u001b[1;32mif\u001b[0m \u001b[1;32mnot\u001b[0m \u001b[0mis_recursion_error\u001b[0m\u001b[1;33m(\u001b[0m\u001b[0metype\u001b[0m\u001b[1;33m,\u001b[0m \u001b[0mvalue\u001b[0m\u001b[1;33m,\u001b[0m \u001b[0mrecords\u001b[0m\u001b[1;33m)\u001b[0m\u001b[1;33m:\u001b[0m\u001b[1;33m\u001b[0m\u001b[1;33m\u001b[0m\u001b[0m\n\u001b[1;32m--> 451\u001b[1;33m         \u001b[1;32mreturn\u001b[0m \u001b[0mlen\u001b[0m\u001b[1;33m(\u001b[0m\u001b[0mrecords\u001b[0m\u001b[1;33m)\u001b[0m\u001b[1;33m,\u001b[0m \u001b[1;36m0\u001b[0m\u001b[1;33m\u001b[0m\u001b[1;33m\u001b[0m\u001b[0m\n\u001b[0m\u001b[0;32m    452\u001b[0m \u001b[1;33m\u001b[0m\u001b[0m\n\u001b[0;32m    453\u001b[0m     \u001b[1;31m# Select filename, lineno, func_name to track frames with\u001b[0m\u001b[1;33m\u001b[0m\u001b[1;33m\u001b[0m\u001b[1;33m\u001b[0m\u001b[0m\n",
      "\u001b[1;31mTypeError\u001b[0m: object of type 'NoneType' has no len()"
     ]
    }
   ],
   "source": [
    "### ATTENTION: dt_init calculer la CFL a chaque iteration... \n",
    "Δt = 0.0001\n",
    "\n",
    "t = 0. # total time\n",
    "\n",
    "# parameters (Reynolds number)\n",
    "Re = 10\n",
    "\n",
    "\n",
    "fig = plt.figure(1, figsize=(14,7))\n",
    "\n",
    "loop_continue = True\n",
    "def on_close (event):\n",
    "    global loop_continue\n",
    "    loop_continue = False\n",
    "fig.canvas.mpl_connect('close_event', on_close)\n",
    "\n",
    "\n",
    "niter = 0\n",
    "while loop_continue:\n",
    "\n",
    "    ###### Advection semi-Lagrangienne\n",
    "    adv_u = SemiLag2(u,v, u, Δx,Δy,Δt)\n",
    "    adv_v = SemiLag2(u,v, v, Δx,Δy,Δt)\n",
    "    \n",
    "    ρ = SemiLag2(u,v, ρ, Δx,Δy,Δt)\n",
    "    # c'est totalement instable avec SemiLag2, pourquoi ????\n",
    "    \n",
    "    ### Mise à jour des conditions limites pour la densité.\n",
    "    DensityGhostPoints(ρ)\n",
    "\n",
    "    ###### Diffusion step\n",
    "    ustar = adv_u + Δt*Laplacian(u, Δx,Δy)/Re/ρ\n",
    "    vstar = adv_v + Δt*Laplacian(v, Δx,Δy)/Re/ρ\n",
    "    \n",
    "    g = 1\n",
    "    α = pi/4\n",
    "    ustar += +sin(α) * g * Δt\n",
    "    vstar += -cos(α) * g * Δt\n",
    "    \n",
    "    ###### Mise à jour des conditions limites pour la vitesse :\n",
    "    VelocityGhostPoints(ustar,vstar)\n",
    " \n",
    "    ### Update divstar \n",
    "    divstar = Divergence(ustar,vstar, Δx,Δy)\n",
    "    divstar = divstar - np.mean(divstar[1:-1,1:-1])\n",
    "    \n",
    "    ### Solving the linear system\n",
    "    press[1:-1,1:-1] = Resolve(LUPN, RHS=divstar[1:-1,1:-1])\n",
    "\n",
    "    ### Mise à jour des conditions limites pour la pression :\n",
    "    press[0,  :] = press[1,  :] # left\n",
    "    press[-1, :] = -press[-2, :] # right \n",
    "    press[:,  0] = press[:,  1] # bottom \n",
    "    press[:, -1] = press[:, -2] # top \n",
    "\n",
    "    ### Update gradphi\n",
    "    dx_press[1:-1, :] = (press[2:, :] - press[:-2, :])/Δx/2\n",
    "    dy_press[:, 1:-1] = (press[:, 2:] - press[:, :-2])/Δy/2\n",
    "\n",
    "    ### Project u\n",
    "    u = ustar - dx_press / ρ\n",
    "    v = vstar - dy_press / ρ\n",
    "\n",
    "    VelocityGhostPoints(u,v)\n",
    "    \n",
    "    \n",
    "    \n",
    "\n",
    "    if (niter%1000 == 0):\n",
    "        #print(mass_check(ρ))\n",
    "        fig.clear()\n",
    "        (ax1,ax2) = fig.subplots(nrows=1, ncols=2, sharey=True)\n",
    "        \n",
    "        def plot_vel (ax, modx=1, mody=1, vmax=10):\n",
    "            ax.quiver(xx[::modx,::mody], yy[::modx,::mody], np.transpose(u[1:-1:modx,1:-1:mody]), np.transpose(v[1:-1:modx,1:-1:mody]), scale=vmax*2)\n",
    "            ax.set_aspect('equal', adjustable='box')\n",
    "    \n",
    "        fig.suptitle(r\"Velocity, Density and Pression fields at $t={:.4f}$\".format(t))\n",
    "        \n",
    "        ax1.clear()\n",
    "        ax1.imshow(np.transpose(ρ[1:-1,1:-1]), origin='lower', extent=(0,Lx,0,Ly), cmap=plt.cm.RdPu, vmin=0, vmax=6)\n",
    "        plot_vel(ax1)\n",
    "        \n",
    "        ax2.clear()\n",
    "        im = ax2.imshow(np.transpose(press[1:-1,1:-1]), origin='lower', extent=(0,Lx,0,Ly), cmap='plasma')\n",
    "        fig.colorbar(im)\n",
    "        plot_vel(ax2)\n",
    "        \n",
    "#        my_cmap = plt.cm.gnuplot2_r(np.arange(plt.cm.gnuplot2_r.N))\n",
    "#        my_cmap = 0.5 * (1+my_cmap)\n",
    "#        my_cmap = matplotlib.colors.ListedColormap(my_cmap)\n",
    "#        ax1.imshow(np.transpose(np.sqrt(u[1:-1,1:-1]**2 + v[1:-1,1:-1]**2)), origin='lower', extent=(0,Lx,0,Ly), cmap=my_cmap, vmin=0, vmax=2)\n",
    "#        plot_vel(ax1)\n",
    "    \n",
    "\n",
    "        fig.tight_layout()\n",
    "#       plt.savefig('blah/{:04d}.png'.format((niter+1)//modulo))\n",
    "        plt.draw()\n",
    "        \n",
    "        mpl_pause_background(0.00001)\n",
    "        \n",
    "    t += Δt\n",
    "    niter += 1"
   ]
  }
 ],
 "metadata": {
  "kernelspec": {
   "display_name": "Python 3",
   "language": "python",
   "name": "python3"
  },
  "language_info": {
   "codemirror_mode": {
    "name": "ipython",
    "version": 3
   },
   "file_extension": ".py",
   "mimetype": "text/x-python",
   "name": "python",
   "nbconvert_exporter": "python",
   "pygments_lexer": "ipython3",
   "version": "3.8.3"
  }
 },
 "nbformat": 4,
 "nbformat_minor": 4
}
