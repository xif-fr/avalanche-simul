{
 "cells": [
  {
   "cell_type": "markdown",
   "metadata": {},
   "source": [
    "Bibliothèques utiles :"
   ]
  },
  {
   "cell_type": "code",
   "execution_count": 1,
   "metadata": {},
   "outputs": [],
   "source": [
    "import numpy as np\n",
    "import matplotlib\n",
    "import matplotlib.pyplot as plt\n",
    "from cfd_common import *\n",
    "from math import *"
   ]
  },
  {
   "cell_type": "code",
   "execution_count": 2,
   "metadata": {},
   "outputs": [],
   "source": [
    "%matplotlib qt"
   ]
  },
  {
   "cell_type": "code",
   "execution_count": 3,
   "metadata": {},
   "outputs": [
    {
     "data": {
      "text/plain": [
       "<matplotlib.pyplot._IonContext at 0x7f5f8293cdc0>"
      ]
     },
     "execution_count": 3,
     "metadata": {},
     "output_type": "execute_result"
    }
   ],
   "source": [
    "plt.ion()"
   ]
  },
  {
   "cell_type": "markdown",
   "metadata": {},
   "source": [
    "Choix du domaine et des paramètres de la discrétisation du problème :"
   ]
  },
  {
   "cell_type": "code",
   "execution_count": 4,
   "metadata": {},
   "outputs": [],
   "source": [
    "##### Domain #####\n",
    "\n",
    "# Domain size\n",
    "Lx = 2.\n",
    "Ly = 2.\n",
    "\n",
    "# Physical grid size\n",
    "Nx_phys = 200\n",
    "Ny_phys = 200\n",
    "Δx = Lx/Nx_phys\n",
    "Δy = Ly/Ny_phys\n",
    "\n",
    "# Numerical grid size, including ghost points\n",
    "Nx = Nx_phys + 2\n",
    "Ny = Ny_phys + 2\n",
    "\n",
    "# Physical grid (x,y)\n",
    "# Due to the \"staggered-like\" approach to boundary conditions with ghost points,\n",
    "#  the border go through the middle of border cells\n",
    "x = np.linspace(Δx/2, Lx-Δx/2, Nx_phys) \n",
    "y = np.linspace(Δy/2, Ly-Δy/2, Ny_phys)\n",
    "[xx,yy] = np.meshgrid(x,y) "
   ]
  },
  {
   "cell_type": "markdown",
   "metadata": {},
   "source": [
    "Initialisation des champs de vitesse / champ de pression et champ de densité :\n",
    "\n",
    "On note $u,v$ les composantes horizontale, verticales du champ de vitesse. On les initialise à :..."
   ]
  },
  {
   "cell_type": "code",
   "execution_count": 5,
   "metadata": {},
   "outputs": [],
   "source": [
    "##### Fields #####\n",
    "\n",
    "# Velocity field (u,v)[i,j], initialized to \"zero\"\n",
    "u = np.zeros((Nx,Ny))\n",
    "v = np.zeros((Nx,Ny))\n",
    "\n",
    "vrand_ampli = 0.1\n",
    "v += vrand_ampli * ( 1-2*np.random.rand(Nx,Ny) ) # random vertical velocity to speed up the instability\n",
    "\n",
    "# Pressure field press[i,j] and its gradient (dx_press,dy_press)\n",
    "press = np.zeros((Nx,Ny))\n",
    "dx_press = np.zeros((Nx,Ny))\n",
    "dy_press = np.zeros((Nx,Ny))\n",
    "\n",
    "# Density field\n",
    "ρ0 = 5\n",
    "ρ = ρ0*np.ones((Nx,Ny))\n",
    "#ρ[:, 4*Ny//10 : 8*Ny//10] = 1\n",
    "#ρ[1:-1,1:-1] = np.where(((xx-0*Lx/2)**2+(yy-Ly/2)**2)<0.5, 5, 1)\n",
    "#ρ[1:-1,1:-1] = np.where(((xx-0*Lx/2)**2+(yy-Ly/2)**2)<0.3, 1, ρ[1:-1,1:-1])\n",
    "ρ[1:-1,1:-1] = np.transpose(np.where(((xx-Lx/2)**2+(yy-0.15*Ly)**2)<0.2**2, 1, 5))"
   ]
  },
  {
   "cell_type": "markdown",
   "metadata": {},
   "source": [
    "On impose les conditions aux bords (sur les GhostPoints) :"
   ]
  },
  {
   "cell_type": "code",
   "execution_count": 6,
   "metadata": {},
   "outputs": [],
   "source": [
    "def VelocityGhostPoints(u,v):\n",
    "    # ya pas cette histoire de \"frontière = au milieu des cellules de bord ?\"\n",
    "    ### left\n",
    "    u[0, :] = 0#u[1, :]\n",
    "    v[0, :] = 0#v[1, :]\n",
    "    ### right    \n",
    "    u[-1, :] = 0#u[-2, :]    # outflow condition => dérivée nulle\n",
    "    v[-1, :] = 0#v[-2, :]    # outflow condition => dérivée nulle\n",
    "    ### bottom\n",
    "    u[:,  0] = 0  # no slip\n",
    "    v[:,  0] = 0  # imperméabilité\n",
    "    ### top     \n",
    "    u[:, -1] = u[:, -2]\n",
    "    v[:, -1] = v[:, -2]\n",
    "    \n",
    "def PhiGhostPoints(phi):\n",
    "    ### left\n",
    "    phi[0,  1:-1] = 2 * (-0.0001*ρ0*g*y) - phi[1,  1:-1]\n",
    "    phi[0, :] = phi[1, :]\n",
    "    ### right\n",
    "    phi[-1, 1:-1] = 2 * (-0.0001*ρ0*g*y) - phi[-2, 1:-1]\n",
    "    phi[-1, :] = phi[-2, :]\n",
    "    ### bottom               \n",
    "    phi[:,  0] = phi[:,  1]\n",
    "    ### top            \n",
    "    phi[:, -1] = - phi[:, -2]\n",
    "\n",
    "def DensityGhostPoints(ρ):\n",
    "    # ghost points for density : Neumann ∂ρ=0 boundary condition\n",
    "    ρ[ 0, :] = ρ0 #ρ[1, :] # left\n",
    "    ρ[-1, :] = ρ0 #ρ[-2, :] # right\n",
    "    ρ[:,  0] = ρ0 #ρ[:, 1] # bottom\n",
    "    ρ[:, -1] = ρ0 #ρ[:, -2] # top  "
   ]
  },
  {
   "cell_type": "markdown",
   "metadata": {},
   "source": [
    "Ensuite vient la définition de notre schéma :"
   ]
  },
  {
   "cell_type": "code",
   "execution_count": 7,
   "metadata": {},
   "outputs": [],
   "source": [
    "###### CONSTRUCTION des matrices et LU decomposition\n",
    "\n",
    "### Matrix construction for projection step\n",
    "LAPN = FD_2D_Laplacian_matrix (Nx_phys, Ny_phys, Δx, Δy, BCdir_left=False, BCdir_right=False, BCdir_top=True, BCdir_bot=False) \n",
    "LUPN = LUdecomposition(LAPN)"
   ]
  },
  {
   "cell_type": "code",
   "execution_count": 8,
   "metadata": {},
   "outputs": [
    {
     "data": {
      "text/plain": [
       "19.8964"
      ]
     },
     "execution_count": 8,
     "metadata": {},
     "output_type": "execute_result"
    }
   ],
   "source": [
    "## Check mass\n",
    "def mass_check(rho):\n",
    "    return Δx*Δy*np.sum(rho)\n",
    "\n",
    "mass_check(ρ)"
   ]
  },
  {
   "cell_type": "markdown",
   "metadata": {},
   "source": [
    "Puis la boucle principale de calcul :"
   ]
  },
  {
   "cell_type": "code",
   "execution_count": null,
   "metadata": {},
   "outputs": [],
   "source": [
    "### ATTENTION: dt_init calculer la CFL a chaque iteration... \n",
    "Δt = 0.000005\n",
    "\n",
    "t = 0. # total time\n",
    "\n",
    "# parameters\n",
    "Re = 10000 # Reynolds number\n",
    "g = 1\n",
    "α = 0*pi/4\n",
    "\n",
    "# how much do we correct for diffusion in semi-lag advection at the price of dispersion\n",
    "ρ_semilag2_coeff = 0.8\n",
    "u_semilag2_coeff = 0.7\n",
    "\n",
    "fig = plt.figure(1, figsize=(14,7))\n",
    "\n",
    "loop_continue = True\n",
    "def on_close (event):\n",
    "    global loop_continue\n",
    "    loop_continue = False\n",
    "fig.canvas.mpl_connect('close_event', on_close)\n",
    "\n",
    "\n",
    "niter = 0\n",
    "disp_modulo = 1000"
   ]
  },
  {
   "cell_type": "code",
   "execution_count": 10,
   "metadata": {},
   "outputs": [],
   "source": [
    "while loop_continue:\n",
    "\n",
    "    ###### Advection semi-lagrangienne\n",
    "    adv_u = SemiLag2(u,v, u, Δx,Δy,Δt, u_semilag2_coeff)\n",
    "    adv_v = SemiLag2(u,v, v, Δx,Δy,Δt, u_semilag2_coeff)\n",
    "\n",
    "    if ρ_semilag2_coeff is None:\n",
    "        ρ = SemiLag(u,v, ρ, Δx,Δy,Δt)\n",
    "    else:\n",
    "        ρ = SemiLag2(u,v, ρ, Δx,Δy,Δt, ρ_semilag2_coeff)\n",
    "    \n",
    "    ρ = np.maximum(ρ, 0.2)\n",
    "    \n",
    "    ### Mise à jour des conditions limites pour la densité.\n",
    "    DensityGhostPoints(ρ)\n",
    "    \n",
    "    ###### Diffusion step\n",
    "    ustar = adv_u + Δt*Laplacian(u, Δx,Δy)/Re/ρ\n",
    "    vstar = adv_v + Δt*Laplacian(v, Δx,Δy)/Re/ρ\n",
    "    \n",
    "    ustar += +sin(α) * g * Δt\n",
    "    vstar += -cos(α) * g * Δt\n",
    "    \n",
    "    ###### Mise à jour des conditions limites pour la vitesse :\n",
    "    VelocityGhostPoints(ustar,vstar)\n",
    " \n",
    "    ### Update divstar \n",
    "    divstar = Divergence(ustar,vstar, Δx,Δy)\n",
    "#    divstar = divstar - np.mean(divstar[1:-1,1:-1])\n",
    "    \n",
    "    ### Solving the linear system\n",
    "    press[1:-1,1:-1] = Resolve(LUPN, RHS=divstar[1:-1,1:-1])/Δt/10000\n",
    "\n",
    "    ### Mise à jour des conditions limites pour la pression :\n",
    "    PhiGhostPoints(press)\n",
    "\n",
    "    ### Update gradphi\n",
    "    dx_press[1:-1, :] = (press[2:, :] - press[:-2, :])/Δx/2\n",
    "    dy_press[:, 1:-1] = (press[:, 2:] - press[:, :-2])/Δy/2\n",
    "\n",
    "    ### Project u\n",
    "    u = ustar - Δt*10000*dx_press / ρ\n",
    "    v = vstar - Δt*10000*dy_press / ρ\n",
    "    \n",
    "    VelocityGhostPoints(u,v)\n",
    "    \n",
    "\n",
    "    if (niter%disp_modulo == 0):\n",
    "        #print(mass_check(ρ))\n",
    "        fig.clear()\n",
    "        (ax1,ax2) = fig.subplots(nrows=1, ncols=2, sharey=True)\n",
    "        \n",
    "        def plot_vel (ax, modx=None, mody=None, vmax=20):\n",
    "            if modx is None:\n",
    "                modx = Nx_phys//50\n",
    "            if mody is None:\n",
    "                mody = Ny_phys//50\n",
    "            ax.quiver(xx[::modx,::mody], yy[::modx,::mody], np.transpose(u[1:-1:modx,1:-1:mody]), np.transpose(v[1:-1:modx,1:-1:mody]), scale=vmax*2)\n",
    "            ax.set_aspect('equal', adjustable='box')\n",
    "    \n",
    "        fig.suptitle(r\"Velocity, Density and Pressure fields at $t={:.3f}$. No-slip B.C., free-flow B.C. top, $Re={}$, SemiLag2({}) for $\\vec{{u}}$, ${}\\times{}$ grid.{} SemiLag2({}) for $\\rho$ (min 0.2), total mass : {:.2f}\".format(t,Re,u_semilag2_coeff,Nx_phys,Ny_phys,\"\\n\",ρ_semilag2_coeff,mass_check(ρ)))\n",
    "        \n",
    "        ax1.clear()\n",
    "        ax1.imshow(np.transpose(ρ[1:-1,1:-1]), origin='lower', extent=(0,Lx,0,Ly), cmap=plt.cm.RdPu, vmin=0, vmax=6)\n",
    "        plot_vel(ax1)\n",
    "        \n",
    "        ax2.clear()\n",
    "        im = ax2.imshow(np.transpose(1e4*press[1:-1,1:-1]), origin='lower', extent=(0,Lx,0,Ly), cmap='plasma', vmax=ρ0*g*Ly, vmin=0)#, vmax=ρ0*1, vmin=-ρ0*2.5)\n",
    "        fig.colorbar(im)\n",
    "        plot_vel(ax2)\n",
    "        \n",
    "#        my_cmap = plt.cm.gnuplot2_r(np.arange(plt.cm.gnuplot2_r.N))\n",
    "#        my_cmap = 0.5 * (1+my_cmap)\n",
    "#        my_cmap = matplotlib.colors.ListedColormap(my_cmap)\n",
    "#        ax1.imshow(np.transpose(np.sqrt(u[1:-1,1:-1]**2 + v[1:-1,1:-1]**2)), origin='lower', extent=(0,Lx,0,Ly), cmap=my_cmap, vmin=0, vmax=2)\n",
    "#        plot_vel(ax1)\n",
    "    \n",
    "\n",
    "        fig.tight_layout()\n",
    "        if True and niter != 0:\n",
    "            plt.savefig('bubble6/{:04d}.png'.format(niter//disp_modulo))\n",
    "        plt.draw()\n",
    "        \n",
    "        mpl_pause_background(0.00001)\n",
    "        \n",
    "    t += Δt\n",
    "    niter += 1"
   ]
  },
  {
   "cell_type": "code",
   "execution_count": null,
   "metadata": {},
   "outputs": [],
   "source": []
  },
  {
   "cell_type": "code",
   "execution_count": null,
   "metadata": {},
   "outputs": [],
   "source": []
  }
 ],
 "metadata": {
  "kernelspec": {
   "display_name": "Python 3",
   "language": "python",
   "name": "python3"
  },
  "language_info": {
   "codemirror_mode": {
    "name": "ipython",
    "version": 3
   },
   "file_extension": ".py",
   "mimetype": "text/x-python",
   "name": "python",
   "nbconvert_exporter": "python",
   "pygments_lexer": "ipython3",
   "version": "3.9.2"
  }
 },
 "nbformat": 4,
 "nbformat_minor": 4
}
