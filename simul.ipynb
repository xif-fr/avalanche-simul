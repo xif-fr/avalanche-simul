{
 "cells": [
  {
   "cell_type": "markdown",
   "metadata": {},
   "source": [
    "Bibliothèques utiles :"
   ]
  },
  {
   "cell_type": "code",
   "execution_count": 1,
   "metadata": {},
   "outputs": [],
   "source": [
    "import numpy as np\n",
    "import matplotlib as mpl\n",
    "import matplotlib.pyplot as plt\n",
    "from cfd_common import *\n",
    "from math import *\n",
    "import scipy.interpolate\n",
    "import os"
   ]
  },
  {
   "cell_type": "code",
   "execution_count": 2,
   "metadata": {},
   "outputs": [],
   "source": [
    "%matplotlib qt"
   ]
  },
  {
   "cell_type": "code",
   "execution_count": 3,
   "metadata": {},
   "outputs": [
    {
     "data": {
      "text/plain": [
       "<matplotlib.pyplot._IonContext at 0x7ff0530dce80>"
      ]
     },
     "execution_count": 3,
     "metadata": {},
     "output_type": "execute_result"
    }
   ],
   "source": [
    "plt.ion()"
   ]
  },
  {
   "cell_type": "code",
   "execution_count": 4,
   "metadata": {},
   "outputs": [],
   "source": [
    "path_prefix = 'avalanche_monster_a0.2_u1.8_g10_Re1000_660x120_1'\n",
    "if not os.path.exists(path_prefix):\n",
    "    os.mkdir(path_prefix)"
   ]
  },
  {
   "cell_type": "markdown",
   "metadata": {},
   "source": [
    "Choix du domaine et des paramètres de la discrétisation du problème :"
   ]
  },
  {
   "cell_type": "code",
   "execution_count": 5,
   "metadata": {},
   "outputs": [],
   "source": [
    "##### Domain #####\n",
    "\n",
    "# Domain size\n",
    "Lx = 6.\n",
    "Ly = 1.\n",
    "\n",
    "# Physical grid size\n",
    "Nx_phys = 660\n",
    "Ny_phys = 120\n",
    "Δx = Lx/Nx_phys\n",
    "Δy = Ly/Ny_phys\n",
    "\n",
    "# Numerical grid size, including ghost points\n",
    "Nx = Nx_phys + 2\n",
    "Ny = Ny_phys + 2\n",
    "\n",
    "# Physical grid (x,y)\n",
    "# Due to the \"staggered-like\" approach to boundary conditions with ghost points,\n",
    "#  the border go through the middle of border cells\n",
    "x = np.linspace(Δx/2, Lx-Δx/2, Nx_phys) \n",
    "y = np.linspace(Δy/2, Ly-Δy/2, Ny_phys)\n",
    "[xx,yy] = np.meshgrid(x,y) "
   ]
  },
  {
   "cell_type": "markdown",
   "metadata": {},
   "source": [
    "Initialisation des champs de vitesse / champ de pression et champ de densité :\n",
    "\n",
    "On note $u,v$ les composantes horizontale, verticales du champ de vitesse. On les initialise à :..."
   ]
  },
  {
   "cell_type": "code",
   "execution_count": 6,
   "metadata": {},
   "outputs": [],
   "source": [
    "##### Fields #####\n",
    "\n",
    "# Velocity field (u,v)[i,j], initialized to \"zero\"\n",
    "u = np.zeros((Nx,Ny))\n",
    "v = np.zeros((Nx,Ny))\n",
    "\n",
    "vrand_ampli = 0\n",
    "v += vrand_ampli * ( 1-2*np.random.rand(Nx,Ny) ) # random vertical velocity to speed up the instability\n",
    "\n",
    "# Pressure field phi[i,j] and its gradient (dx_phi,dy_phi)\n",
    "phi = np.zeros((Nx,Ny))\n",
    "dx_phi = np.zeros((Nx,Ny))\n",
    "dy_phi = np.zeros((Nx,Ny))\n",
    "phi0_left = np.zeros(Ny_phys)\n",
    "phi0_right = np.zeros(Ny_phys)\n",
    "phi0_top = np.zeros(Nx_phys)\n",
    "\n",
    "# Density field\n",
    "ρ0 = 1\n",
    "ρ1 = 10\n",
    "ρ = ρ0*np.ones((Nx,Ny))\n",
    "\n",
    "#ρ[:, 4*Ny//10 : 8*Ny//10] = 1\n",
    "#ρ[1:-1,1:-1] = np.where(((xx-0*Lx/2)**2+(yy-Ly/2)**2)<0.5, 5, 1)\n",
    "#ρ[1:-1,1:-1] = np.where(((xx-0*Lx/2)**2+(yy-Ly/2)**2)<0.3, 1, ρ[1:-1,1:-1])\n",
    "\n",
    "#ρ[1:-1,1:-1] = np.transpose(np.where(((xx-Lx/2)**2+(yy-0.15*Ly)**2)<0.2**2, 1, 5))\n",
    "\n",
    "surface0 = 0.3\n",
    "surface = surface0 + 0.05 * np.random.normal(size=Nx_phys)\n",
    "ρ_init = np.where( (yy < np.stack([surface]*Ny_phys,0)) & (xx < 2) & (xx > 0.05), ρ1, ρ0 )\n",
    "ρ_init = np.where( (yy < 0.15) & (xx < 2) & (xx > 1.7), ρ0, ρ_init )\n",
    "ρ[1:-1,1:-1] = np.transpose( ρ_init )\n",
    "\n",
    "u = 0.2*(ρ-ρ0)"
   ]
  },
  {
   "cell_type": "markdown",
   "metadata": {},
   "source": [
    "On impose les conditions aux bords (sur les GhostPoints) :"
   ]
  },
  {
   "cell_type": "code",
   "execution_count": 7,
   "metadata": {},
   "outputs": [],
   "source": [
    "def VelocityGhostPoints(u,v):\n",
    "    ### left\n",
    "    u[0, :] = u[1, :]\n",
    "    v[0, :] = v[1, :]\n",
    "    ### right    \n",
    "    u[-1, :] = u[-2, :]    # outflow condition => dérivée nulle\n",
    "    v[-1, :] = v[-2, :]    # outflow condition => dérivée nulle\n",
    "    ### bottom\n",
    "    u[:,  0] = -u[:,  1]  # no slip\n",
    "    v[:,  0] = -v[:,  1]  # imperméabilité\n",
    "    ### top     \n",
    "    u[:, -1] = u[:, -2]\n",
    "    v[:, -1] = v[:, -2]\n",
    "\n",
    "def DensityGhostPoints(ρ):\n",
    "    # ghost points for density : Neumann ∂ρ=0 boundary condition\n",
    "#    ρ[ 0, 1:-1] = np.where( y > surface0, ρ0, ρ1 ) # left\n",
    "    ρ[ 0, :] = ρ0\n",
    "    ρ[-1, :] = ρ0 #ρ[-2, :] # right\n",
    "    ρ[:,  0] = ρ[:, 1] # bottom\n",
    "    ρ[:, -1] = ρ0 #ρ[:, -2] # top  "
   ]
  },
  {
   "cell_type": "markdown",
   "metadata": {},
   "source": [
    "Ensuite vient la définition de notre schéma :"
   ]
  },
  {
   "cell_type": "code",
   "execution_count": 8,
   "metadata": {},
   "outputs": [],
   "source": [
    "###### CONSTRUCTION des matrices et LU decomposition\n",
    "\n",
    "### Matrix construction for projection step\n",
    "LAP,LAP_solver = FD_2D_Laplacian_matrix (Nx_phys, Ny_phys, Δx, Δy, BCdir_left=True, BCdir_right=True, BCdir_top=True, BCdir_bot=False)"
   ]
  },
  {
   "cell_type": "markdown",
   "metadata": {},
   "source": [
    "Puis la boucle principale de calcul :"
   ]
  },
  {
   "cell_type": "code",
   "execution_count": 9,
   "metadata": {},
   "outputs": [],
   "source": [
    "### ATTENTION: dt_init calculer la CFL a chaque iteration... \n",
    "Δt = 0.00005\n",
    "\n",
    "t = 0. # total time\n",
    "\n",
    "# parameters\n",
    "Re = 1000 # Reynolds number\n",
    "g = 10\n",
    "α = 0.2*pi\n",
    "\n",
    "# inertia of the fluid behind the boundary, from 1 (full inwards self-sustaining advection \"free flow\")\n",
    "#  to 0 (no inwards advection, \"free stokes flow\")\n",
    "bnd_inertia = 0.5\n",
    "\n",
    "# how much do we correct for diffusion in semi-lag advection at the price of dispersion\n",
    "ρ_semilag2_coeff = 0.8\n",
    "u_semilag2_coeff = 0.9\n",
    "\n",
    "niter = 0\n",
    "disp_modulo = 60\n",
    "\n",
    "update_side_pressures_modulo = 10"
   ]
  },
  {
   "cell_type": "code",
   "execution_count": 10,
   "metadata": {},
   "outputs": [],
   "source": [
    "#data = np.load(\"bubble-test-200x200-t2.40237-niter240237.npz\")\n",
    "#u = data['u']\n",
    "#v = data['v']\n",
    "#ρ = data['rho']\n",
    "#t = 2.40237\n",
    "#niter = 240237\n",
    "# np.savez(\"bubble-test-200x200-.npz\", u=u, v=v, rho=ρ)"
   ]
  },
  {
   "cell_type": "code",
   "execution_count": 11,
   "metadata": {},
   "outputs": [
    {
     "data": {
      "text/plain": [
       "10.917121212121213"
      ]
     },
     "execution_count": 11,
     "metadata": {},
     "output_type": "execute_result"
    }
   ],
   "source": [
    "## Check mass\n",
    "def mass_check(rho):\n",
    "    return Δx*Δy*np.sum(rho)\n",
    "\n",
    "mass_check(ρ)"
   ]
  },
  {
   "cell_type": "code",
   "execution_count": 12,
   "metadata": {},
   "outputs": [],
   "source": [
    "def compute_hydrostatic_pressure (x0, y0, npoints=100):\n",
    "    z = np.linspace(0, (Ly-y0+x0*sin(α))/(cos(α)+sin(α)**2), npoints)\n",
    "    x_int = x0 - z * sin(α)\n",
    "    y_int = y0 + z * cos(α)\n",
    "    Δl = sqrt( (y_int[1]-y_int[0])**2 + (x_int[1]-x_int[0])**2 )\n",
    "    ρ_f = scipy.interpolate.RectBivariateSpline(x, y, ρ[1:-1,1:-1])\n",
    "    def ρ_f_extra (x, y):\n",
    "        if x > Lx or x < 0 or y > Ly or y < 0:\n",
    "            return ρ0\n",
    "        else:\n",
    "            return ρ_f(x,y)\n",
    "    ρ_f_extra = np.vectorize(ρ_f_extra)\n",
    "    ρ_sample = ρ_f_extra(x_int, y_int)\n",
    "    return g * Δl*np.sum(ρ_sample)\n",
    "\n",
    "def compute_hydrostatic_pressure (x0, y0, npoints=100):\n",
    "    return g * ρ0 * ( (Ly-y0) * cos(α) + x0 * sin(α) )\n",
    "\n",
    "phi[1:-1,1:-1] = np.transpose( compute_hydrostatic_pressure(xx,yy) )"
   ]
  },
  {
   "cell_type": "code",
   "execution_count": 13,
   "metadata": {},
   "outputs": [],
   "source": [
    "fig = plt.figure(1, figsize=(14,7))\n",
    "fig2 = plt.figure(2, figsize=(14,4))\n",
    "\n",
    "loop_continue = True\n",
    "def on_close (event):\n",
    "    global loop_continue\n",
    "    loop_continue = False\n",
    "fig.canvas.mpl_connect('close_event', on_close)\n",
    "\n",
    "def do_plot (save_image):\n",
    "    fig.clear()\n",
    "    (ax1,ax2) = fig.subplots(nrows=2, ncols=1, sharex=True)\n",
    "\n",
    "    def plot_vel (ax, modx=4, mody=4, vmax=100):\n",
    "        if modx is None:\n",
    "            modx = max(1,int(round(Nx_phys/50)))\n",
    "        if mody is None:\n",
    "            mody = max(1,int(round(Ny_phys/50)))\n",
    "        ax.quiver(xx[::modx,::mody], yy[::modx,::mody], np.transpose(u[1:-1,1:-1])[::modx,::mody], np.transpose(v[1:-1,1:-1])[::modx,::mody], scale=vmax*5, minlength=0.001, headwidth=4, headlength=6, headaxislength=5, width=0.0006)\n",
    "        ax.set_aspect('equal', adjustable='box')\n",
    "\n",
    "    base_text = r\" at $t={:.3f}$. Free-flow B.C., no-slip B.C. bottom. $Re={}$, SemiLag2({}) for $\\vec{{u}}$, ${}\\times{}$ grid.{} SemiLag2({}) for $\\rho$ (min 0.2), total mass : {:.2f}. $\\Delta t=${:.0e}. Slope $\\alpha={:.0f}$°, $g={}$. Boundary intertia : {}\".format(t,Re,u_semilag2_coeff,Nx_phys,Ny_phys,\"\\n\",ρ_semilag2_coeff,mass_check(ρ),Δt,α/np.pi*180,g,bnd_inertia)\n",
    "    fig.suptitle(\"Velocity, Density and Pressure fields\"+base_text)\n",
    "\n",
    "    ax1.imshow(np.transpose(ρ[1:-1,1:-1]), origin='lower', extent=(0,Lx,0,Ly), cmap=plt.cm.RdPu, vmin=ρ0-1, vmax=ρ1+1)\n",
    "    plot_vel(ax1)\n",
    "    \n",
    "    im = ax2.imshow(np.transpose(phi[1:-1,1:-1]), origin='lower', extent=(0,Lx,0,Ly), cmap='plasma', vmin=-1, vmax=ρ0*g*5)\n",
    "    fig.colorbar(im)\n",
    "    plot_vel(ax2, modx=6, mody=6)\n",
    "\n",
    "#        my_cmap = plt.cm.gnuplot2_r(np.arange(plt.cm.gnuplot2_r.N))\n",
    "#        my_cmap = 0.5 * (1+my_cmap)\n",
    "#        my_cmap = matplotlib.colors.ListedColormap(my_cmap)\n",
    "#        ax1.imshow(np.transpose(np.sqrt(u[1:-1,1:-1]**2 + v[1:-1,1:-1]**2)), origin='lower', extent=(0,Lx,0,Ly), cmap=my_cmap, vmin=0, vmax=2)\n",
    "#        plot_vel(ax1)\n",
    "\n",
    "\n",
    "    fig.tight_layout()\n",
    "    if save_image and niter != 0:\n",
    "        fig.savefig(path_prefix+'/{:04d}.png'.format(niter//disp_modulo))\n",
    "    fig.canvas.draw_idle()\n",
    "    \n",
    "    fig2.clear()\n",
    "    ax = fig2.subplots(nrows=1, ncols=1)\n",
    "    ax.contour(xx, yy, np.transpose(ρ[1:-1,1:-1]), levels=[ 0.2*ρ1+0.8*ρ0, 0.5*ρ1+0.5*ρ0, 0.8*ρ1+0.1*ρ0 ], colors=['grey','black','grey'], linewidths=[1,2,1], linestyles=['dotted','solid','dotted'])\n",
    "    plot_vel(ax, modx=6, mody=6, vmax=80)\n",
    "    fig2.tight_layout()\n",
    "    fig2.suptitle(\"Velocity fields and Density contour\"+base_text)\n",
    "    if save_image and niter != 0:\n",
    "        fig2.savefig(path_prefix+'/{:04d}.ctr.png'.format(niter//disp_modulo))\n",
    "    fig2.canvas.draw_idle()\n",
    "    \n",
    "    mpl_pause_background(0.00001)\n",
    "\n",
    "for k in range(5):\n",
    "    do_plot(False)"
   ]
  },
  {
   "cell_type": "code",
   "execution_count": null,
   "metadata": {},
   "outputs": [
    {
     "name": "stderr",
     "output_type": "stream",
     "text": [
      "<ipython-input-14-59829d6cde41>:48: RuntimeWarning: overflow encountered in true_divide\n",
      "  divstar /= Δt\n"
     ]
    }
   ],
   "source": [
    "while loop_continue:\n",
    "\n",
    "    c = 2*bnd_inertia-1\n",
    "    ### left\n",
    "    u[0, :] = c * u[1, :]\n",
    "    v[0, :] = c * v[1, :]\n",
    "    ### right    \n",
    "    u[-1, :] = c * u[-2, :]    # outflow condition => dérivée nulle\n",
    "    v[-1, :] = c * v[-2, :]    # outflow condition => dérivée nulle\n",
    "    ### bottom\n",
    "    u[:,  0] = -u[:,  1]  # no slip\n",
    "    v[:,  0] = -v[:,  1]  # imperméabilité\n",
    "    ### top     \n",
    "    u[:, -1] = c * u[:, -2]\n",
    "    v[:, -1] = c * v[:, -2]\n",
    "    \n",
    "    ###### Advection semi-lagrangienne\n",
    "    if u_semilag2_coeff is None:\n",
    "        adv_u = SemiLag(u,v, u, Δx,Δy,Δt)\n",
    "        adv_v = SemiLag(u,v, v, Δx,Δy,Δt)\n",
    "    else:\n",
    "        adv_u = SemiLag2(u,v, u, Δx,Δy,Δt, u_semilag2_coeff)\n",
    "        adv_v = SemiLag2(u,v, v, Δx,Δy,Δt, u_semilag2_coeff)\n",
    " \n",
    "\n",
    "    if ρ_semilag2_coeff is None:\n",
    "        ρ = SemiLag(u,v, ρ, Δx,Δy,Δt)\n",
    "    else:\n",
    "        ρ = SemiLag2(u,v, ρ, Δx,Δy,Δt, ρ_semilag2_coeff)\n",
    "    \n",
    "    ρ = np.minimum(ρ1+0.5, np.maximum(ρ0-0.5, ρ))\n",
    "    \n",
    "    ### Mise à jour des conditions limites pour la densité.\n",
    "    DensityGhostPoints(ρ)\n",
    "    \n",
    "    ###### Diffusion step\n",
    "    ustar = adv_u + Δt*Laplacian(u, Δx,Δy)/Re/ρ\n",
    "    vstar = adv_v + Δt*Laplacian(v, Δx,Δy)/Re/ρ\n",
    "    \n",
    "    ustar += +sin(α) * g * Δt\n",
    "    vstar += -cos(α) * g * Δt\n",
    "    \n",
    "    ###### Mise à jour des conditions limites pour la vitesse :\n",
    "    VelocityGhostPoints(ustar,vstar)\n",
    " \n",
    "    ### Update divstar \n",
    "    divstar = Divergence(ustar,vstar, Δx,Δy)\n",
    "    divstar /= Δt\n",
    "    \n",
    "    if niter%update_side_pressures_modulo == 0:\n",
    "        phi0_left = np.vectorize(compute_hydrostatic_pressure)(0, Ly-(Ly-y))\n",
    "        phi0_right = np.vectorize(compute_hydrostatic_pressure)(Lx, Ly-(Ly-y))\n",
    "        phi0_top = np.vectorize(compute_hydrostatic_pressure)(x, Ly)\n",
    "    \n",
    "    ### Solving the linear system\n",
    "    phi[1:-1, 1:-1] = LAP_solver(RHS=divstar[1:-1,1:-1], BCdir_val_left=phi0_left, BCdir_val_right=phi0_right, BCdir_val_top=phi0_top)\n",
    "    phi[0   , 1:-1] = 2 * phi0_left  - phi[ 1   , 1:-1]\n",
    "    phi[  -1, 1:-1] = 2 * phi0_right - phi[-2   , 1:-1]\n",
    "    phi[1:-1,   -1] = 2 * phi0_top   - phi[ 1:-1,   -2]\n",
    "    phi[ :  , 0   ] =                + phi[:    ,    1]\n",
    "    phi[-1,-1] = phi[-1,-2]\n",
    "\n",
    "    ### Update gradphi\n",
    "    dx_phi[1:-1, :] = (phi[2:, :] - phi[:-2, :])/Δx/2\n",
    "    dy_phi[:, 1:-1] = (phi[:, 2:] - phi[:, :-2])/Δy/2\n",
    "\n",
    "    ### Project u\n",
    "    u = ustar - Δt*dx_phi / ρ\n",
    "    v = vstar - Δt*dy_phi / ρ\n",
    "    \n",
    "    \n",
    "    if niter%disp_modulo == 0:\n",
    "        do_plot(save_image=True)\n",
    "        np.savez(path_prefix+'/{:04d}.npz'.format(niter//disp_modulo), u=u, v=v, rho=ρ)\n",
    "    \n",
    "    t += Δt\n",
    "    niter += 1"
   ]
  },
  {
   "cell_type": "code",
   "execution_count": null,
   "metadata": {},
   "outputs": [],
   "source": []
  }
 ],
 "metadata": {
  "kernelspec": {
   "display_name": "Python 3",
   "language": "python",
   "name": "python3"
  },
  "language_info": {
   "codemirror_mode": {
    "name": "ipython",
    "version": 3
   },
   "file_extension": ".py",
   "mimetype": "text/x-python",
   "name": "python",
   "nbconvert_exporter": "python",
   "pygments_lexer": "ipython3",
   "version": "3.9.2"
  }
 },
 "nbformat": 4,
 "nbformat_minor": 4
}
